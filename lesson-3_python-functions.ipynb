{
 "cells": [
  {
   "cell_type": "markdown",
   "metadata": {},
   "source": [
    "#Python Programming User Defined Functions\n",
    "---\n",
    "\n",
    "**Lesson Overview** We have covered the basic [Python](https://python.org) usage here in this section\n",
    "\n",
    " \n",
    "- Creating and Manipulating  Variables \n",
    "- Data Types and Data Structures\n",
    "- Importing Data Files using Pandas\n",
    "- Calling Built-in Functions\n",
    "- Subsetting Data with Pandas\n",
    "- Writing simple python scripts\n",
    "\n",
    "**Now we will cover:**\n",
    "\n",
    "- General structure of python program\n",
    "- Writing user-defined(your own) functions\n",
    "- Placement of function definitions within a program\n",
    "- Default arguments/scope\n",
    "- Passing arguments to Python scripts from command line\n",
    "\n",
    "- Final product : a script with well-defined parts that include user-defined functions and accepts command-line arguments \n",
    "\n",
    "### General structure of python program\n"
   ]
  },
  {
   "cell_type": "code",
   "execution_count": null,
   "metadata": {
    "collapsed": true
   },
   "outputs": [],
   "source": []
  },
  {
   "cell_type": "markdown",
   "metadata": {},
   "source": [
    "We can subdivide python program into few parts here: \n",
    "1. `Import statements` tell us what libraries are used in the program\n",
    "2. `Reading data` tells us what data is used in the program\n",
    "3. `Data analysis` tells us how data is analyzed. In this script, we select parts of the dataset we are interested in and plot it"
   ]
  },
  {
   "cell_type": "markdown",
   "metadata": {},
   "source": [
    "## Introduction example"
   ]
  },
  {
   "cell_type": "code",
   "execution_count": 1,
   "metadata": {
    "collapsed": true
   },
   "outputs": [],
   "source": [
    "def celsius_fahrenheit():\n",
    "    # F = (C * 9/5) + 32\n",
    "    fahrenheit = (22 * (9 / 5)) + 32\n",
    "    print(fahrenheit)"
   ]
  },
  {
   "cell_type": "code",
   "execution_count": 2,
   "metadata": {
    "collapsed": false,
    "scrolled": true
   },
   "outputs": [
    {
     "name": "stdout",
     "output_type": "stream",
     "text": [
      "71.6\n"
     ]
    }
   ],
   "source": [
    "celsius_fahrenheit()"
   ]
  },
  {
   "cell_type": "markdown",
   "metadata": {},
   "source": [
    "### Now lets try to address the issue of providing values to the functoin as parameters \n"
   ]
  },
  {
   "cell_type": "markdown",
   "metadata": {},
   "source": [
    "### Great \n",
    "> * But what if you want to provide the program with some input values \n",
    "\n",
    "> * like for exmaple you dont want to find conversion for not just one value \n",
    "\n",
    "> * But you may want to find the solution for another value, and another and another \n",
    "\n",
    "> * So how do you do it without writing a differnt functions each time "
   ]
  },
  {
   "cell_type": "code",
   "execution_count": 3,
   "metadata": {
    "collapsed": true
   },
   "outputs": [],
   "source": [
    "def celsius_fahrenheit(c):\n",
    "    # F = (C * 9/5) + 32\n",
    "    fahrenheit = (c * (9 / 5)) + 32\n",
    "    print(fahrenheit)"
   ]
  },
  {
   "cell_type": "code",
   "execution_count": 5,
   "metadata": {
    "collapsed": false
   },
   "outputs": [
    {
     "name": "stdout",
     "output_type": "stream",
     "text": [
      "71.6\n"
     ]
    }
   ],
   "source": [
    "celsius_fahrenheit(22)"
   ]
  },
  {
   "cell_type": "code",
   "execution_count": 6,
   "metadata": {
    "collapsed": false
   },
   "outputs": [
    {
     "name": "stdout",
     "output_type": "stream",
     "text": [
      "122.0\n"
     ]
    }
   ],
   "source": [
    "celsius_fahrenheit(50)"
   ]
  },
  {
   "cell_type": "markdown",
   "metadata": {},
   "source": [
    "### What if we wanted to use the value corresponding to a celcious value and convert it faren and use the value of some other use in the script\n",
    "> * How do we do that \n",
    "> * how to capture the values in a variable and use it "
   ]
  },
  {
   "cell_type": "code",
   "execution_count": 70,
   "metadata": {
    "collapsed": true
   },
   "outputs": [],
   "source": [
    "def celsius_fahrenheit(c):\n",
    "    # F = (C * 9/5) + 32\n",
    "    fahrenheit = (c * (9 / 5)) + 32\n",
    "    return fahrenheit"
   ]
  },
  {
   "cell_type": "code",
   "execution_count": 71,
   "metadata": {
    "collapsed": false
   },
   "outputs": [
    {
     "data": {
      "text/plain": [
       "35.6"
      ]
     },
     "execution_count": 71,
     "metadata": {},
     "output_type": "execute_result"
    }
   ],
   "source": [
    "celsius_fahrenheit(2)"
   ]
  },
  {
   "cell_type": "code",
   "execution_count": 72,
   "metadata": {
    "collapsed": true
   },
   "outputs": [],
   "source": [
    "faren = celsius_fahrenheit(2)"
   ]
  },
  {
   "cell_type": "code",
   "execution_count": 73,
   "metadata": {
    "collapsed": false,
    "scrolled": true
   },
   "outputs": [
    {
     "data": {
      "text/plain": [
       "35.6"
      ]
     },
     "execution_count": 73,
     "metadata": {},
     "output_type": "execute_result"
    }
   ],
   "source": [
    "faren"
   ]
  },
  {
   "cell_type": "markdown",
   "metadata": {},
   "source": [
    "## What if dont provide a value ?\n",
    "> Think what is going to happen "
   ]
  },
  {
   "cell_type": "markdown",
   "metadata": {},
   "source": [
    "### Whats is the differnce if we dont have return statement "
   ]
  },
  {
   "cell_type": "code",
   "execution_count": 78,
   "metadata": {
    "collapsed": true
   },
   "outputs": [],
   "source": [
    "def celsius_fahrenheit(c):\n",
    "    # F = (C * 9/5) + 32\n",
    "    fahrenheit = (c * (9 / 5)) + 32\n",
    "    print(fahrenheit)"
   ]
  },
  {
   "cell_type": "code",
   "execution_count": 79,
   "metadata": {
    "collapsed": false
   },
   "outputs": [
    {
     "name": "stdout",
     "output_type": "stream",
     "text": [
      "39.2\n"
     ]
    }
   ],
   "source": [
    "f = celsius_fahrenheit(4)"
   ]
  },
  {
   "cell_type": "code",
   "execution_count": 82,
   "metadata": {
    "collapsed": false
   },
   "outputs": [],
   "source": [
    "f"
   ]
  },
  {
   "cell_type": "code",
   "execution_count": null,
   "metadata": {
    "collapsed": true
   },
   "outputs": [],
   "source": []
  },
  {
   "cell_type": "markdown",
   "metadata": {},
   "source": [
    "Let's focus on `Data analysis` part of this script. Here, we simply select lines that contain inforamtion about Canada. But what if you wanted to know about Sweden? You can just write another line of code:"
   ]
  },
  {
   "cell_type": "code",
   "execution_count": 53,
   "metadata": {
    "collapsed": false
   },
   "outputs": [
    {
     "data": {
      "image/png": "[encoded data removed]",
      "text/plain": [
       "<matplotlib.figure.Figure at 0x1165ca240>"
      ]
     },
     "metadata": {},
     "output_type": "display_data"
    }
   ],
   "source": [
    "Sweden = my_file.loc[my_file['country'] == \"Sweden\"]\n",
    "#plot lifeExp \n",
    "Sweden.plot.line(x='year',y='lifeExp',label = \"Life Expectancy\",figsize=(8, 6))\n",
    "plt.suptitle('Life Expectancy in Canada Over the years', fontsize = 20)\n",
    "plt.xlabel('Year', fontsize = 16)\n",
    "plt.ylabel('Life Expectancy', fontsize = 16)\n",
    "plt.show() "
   ]
  },
  {
   "cell_type": "markdown",
   "metadata": {},
   "source": [
    "But notice that we are repeating most of the code… What would be nice is to have a function, say called Get_countryData that we can use to get information for any country of our choice"
   ]
  },
  {
   "cell_type": "code",
   "execution_count": 49,
   "metadata": {
    "collapsed": false
   },
   "outputs": [
    {
     "data": {
      "text/plain": [
       "71.6"
      ]
     },
     "execution_count": 49,
     "metadata": {},
     "output_type": "execute_result"
    }
   ],
   "source": [
    "celsius_fahrenheit()"
   ]
  },
  {
   "cell_type": "markdown",
   "metadata": {},
   "source": [
    "* you can see here that we have a function that converts celsius to fahrenheit, using a celsius measure of 22 (room temp)\n",
    "* note how we use def to define a function of a give name, in this case celsius_fehrenheit\n",
    "* the parentheses allow you to pass arguments to the function, which we haven't done in this case\n",
    "* once the function has been created, you can run it by typing function_name()\n",
    "* if arguments are desired, they would be included inside the parentheses\n",
    "* one big issue with this function is that it is way too limited, only converting one measure of celcius to fahrenheit\n",
    "* let's make it a bit more flexible by adding an argument\n"
   ]
  },
  {
   "cell_type": "code",
   "execution_count": 50,
   "metadata": {
    "collapsed": true
   },
   "outputs": [],
   "source": [
    "def celsius_fahrenheit(C):\n",
    "    # F = (C * 9/5) + 32\n",
    "    fahrenheit = (C * (9 / 5)) + 32\n",
    "    return fahrenheit"
   ]
  },
  {
   "cell_type": "code",
   "execution_count": 51,
   "metadata": {
    "collapsed": false
   },
   "outputs": [
    {
     "ename": "TypeError",
     "evalue": "celsius_fahrenheit() missing 1 required positional argument: 'C'",
     "output_type": "error",
     "traceback": [
      "\u001b[0;31m---------------------------------------------------------------------------\u001b[0m",
      "\u001b[0;31mTypeError\u001b[0m                                 Traceback (most recent call last)",
      "\u001b[0;32m<ipython-input-51-b76cf3b6336a>\u001b[0m in \u001b[0;36m<module>\u001b[0;34m()\u001b[0m\n\u001b[0;32m----> 1\u001b[0;31m \u001b[0mcelsius_fahrenheit\u001b[0m\u001b[0;34m(\u001b[0m\u001b[0;34m)\u001b[0m\u001b[0;34m\u001b[0m\u001b[0m\n\u001b[0m",
      "\u001b[0;31mTypeError\u001b[0m: celsius_fahrenheit() missing 1 required positional argument: 'C'"
     ]
    }
   ],
   "source": [
    "celsius_fahrenheit()"
   ]
  },
  {
   "cell_type": "markdown",
   "metadata": {},
   "source": [
    "* notice the error we receive if we called it like we did before, which is telling us that an argument is required\n",
    "* let's give it one"
   ]
  },
  {
   "cell_type": "code",
   "execution_count": 9,
   "metadata": {
    "collapsed": false
   },
   "outputs": [
    {
     "data": {
      "text/plain": [
       "71.6"
      ]
     },
     "execution_count": 9,
     "metadata": {},
     "output_type": "execute_result"
    }
   ],
   "source": [
    "celsius_fahrenheit(C=22)"
   ]
  },
  {
   "cell_type": "markdown",
   "metadata": {},
   "source": [
    "* you can see this recapitulated what we did before by passing 22 celsius and getting fahrenheit back\n",
    "* this is more flexible, however, because we aren't constrained to using only 22"
   ]
  },
  {
   "cell_type": "code",
   "execution_count": 10,
   "metadata": {
    "collapsed": false
   },
   "outputs": [
    {
     "data": {
      "text/plain": [
       "86.0"
      ]
     },
     "execution_count": 10,
     "metadata": {},
     "output_type": "execute_result"
    }
   ],
   "source": [
    "celsius_fahrenheit(30)"
   ]
  },
  {
   "cell_type": "markdown",
   "metadata": {},
   "source": [
    "another important point is that you can define a default value, which is useful in avoiding errors and making fuctions 'dummy-proof', though it isn't always a good idea"
   ]
  },
  {
   "cell_type": "code",
   "execution_count": 12,
   "metadata": {
    "collapsed": true
   },
   "outputs": [],
   "source": [
    "def celsius_fahrenheit(C=22):\n",
    "    # F = (C * 9/5) + 32\n",
    "    fahrenheit = (C * (9 / 5)) + 32\n",
    "    return fahrenheit"
   ]
  },
  {
   "cell_type": "code",
   "execution_count": 13,
   "metadata": {
    "collapsed": false
   },
   "outputs": [
    {
     "data": {
      "text/plain": [
       "71.6"
      ]
     },
     "execution_count": 13,
     "metadata": {},
     "output_type": "execute_result"
    }
   ],
   "source": [
    "celsius_fahrenheit()"
   ]
  },
  {
   "cell_type": "markdown",
   "metadata": {},
   "source": [
    "* you can see that if no argument is passed, it automatically uses the 5 specified\n",
    "* but we can still pass an argument and override the default\n",
    "---"
   ]
  },
  {
   "cell_type": "markdown",
   "metadata": {},
   "source": [
    "\n",
    "## Challenge\n",
    "\n",
    "* create a function called 'addTwoNumbers' \n",
    "* This funciton should accept two arguments \n",
    "* This fucntion should return the sum of the two arguments\n",
    "\n",
    "\n",
    "## Part 2\n",
    "* Modify the above pogram, to accept two user inputs/parameters/arguments\n",
    "* Modify this function to return a value of 52, if no inputs are specfied\n",
    "\n",
    ">> Hint: you know how to make one argument already \n",
    ">> Hint: think on how to add one more parameter\n",
    ">> "
   ]
  },
  {
   "cell_type": "code",
   "execution_count": 54,
   "metadata": {
    "collapsed": true
   },
   "outputs": [],
   "source": [
    "def addTwoNumbers(num1, num2):\n",
    "    result = (num1 + num2)\n",
    "    return result"
   ]
  },
  {
   "cell_type": "code",
   "execution_count": 55,
   "metadata": {
    "collapsed": false
   },
   "outputs": [
    {
     "data": {
      "text/plain": [
       "5"
      ]
     },
     "execution_count": 55,
     "metadata": {},
     "output_type": "execute_result"
    }
   ],
   "source": [
    "addTwoNumbers(2, 3)"
   ]
  },
  {
   "cell_type": "code",
   "execution_count": 56,
   "metadata": {
    "collapsed": false
   },
   "outputs": [
    {
     "ename": "TypeError",
     "evalue": "addTwoNumbers() missing 1 required positional argument: 'num2'",
     "output_type": "error",
     "traceback": [
      "\u001b[0;31m---------------------------------------------------------------------------\u001b[0m",
      "\u001b[0;31mTypeError\u001b[0m                                 Traceback (most recent call last)",
      "\u001b[0;32m<ipython-input-56-126e9d153bf6>\u001b[0m in \u001b[0;36m<module>\u001b[0;34m()\u001b[0m\n\u001b[0;32m----> 1\u001b[0;31m \u001b[0maddTwoNumbers\u001b[0m\u001b[0;34m(\u001b[0m\u001b[0;36m2\u001b[0m\u001b[0;34m)\u001b[0m\u001b[0;34m\u001b[0m\u001b[0m\n\u001b[0m",
      "\u001b[0;31mTypeError\u001b[0m: addTwoNumbers() missing 1 required positional argument: 'num2'"
     ]
    }
   ],
   "source": [
    "addTwoNumbers(2)"
   ]
  },
  {
   "cell_type": "code",
   "execution_count": 59,
   "metadata": {
    "collapsed": false
   },
   "outputs": [],
   "source": [
    "def addTwoNumbers(num1=51, num2=1):\n",
    "    result = num1 + num2\n",
    "    return result"
   ]
  },
  {
   "cell_type": "code",
   "execution_count": 65,
   "metadata": {
    "collapsed": false
   },
   "outputs": [
    {
     "data": {
      "text/plain": [
       "1"
      ]
     },
     "execution_count": 65,
     "metadata": {},
     "output_type": "execute_result"
    }
   ],
   "source": [
    "addTwoNumbers(0)"
   ]
  },
  {
   "cell_type": "markdown",
   "metadata": {},
   "source": [
    "## Advanced example\n",
    "\n",
    "* so far what we have done is pretty simple, but you now know the basics of creating modular code with functions\n",
    "* let's go back to our full dataset of demography and human health data for US counties and write a meaningful function based on that\n",
    "* thinking back to yesterday, what do you have to do first to start working with that data?"
   ]
  },
  {
   "cell_type": "markdown",
   "metadata": {},
   "source": [
    "* now you can do the actual data import"
   ]
  },
  {
   "cell_type": "code",
   "execution_count": 1,
   "metadata": {
    "collapsed": false
   },
   "outputs": [
    {
     "data": {
      "image/png": "[encoded data removed]",
      "text/plain": [
       "<matplotlib.figure.Figure at 0x1087acf98>"
      ]
     },
     "metadata": {},
     "output_type": "display_data"
    }
   ],
   "source": [
    "##This is PlotLifeExp.py script\n",
    "\n",
    "####### import statements ##########\n",
    "import pandas as pd\n",
    "import matplotlib.pyplot as plt\n",
    "\n",
    "####### reading data into Python ##########\n",
    "#read data into python\n",
    "my_file = pd.read_table(\"gapminder.txt\")\n",
    "\n",
    "####### data analysis #########\n",
    "#select information about Canada\n",
    "Canada = my_file.loc[my_file['country'] == \"Canada\"]\n",
    "\n",
    "#plot lifeExp \n",
    "Canada.plot.line(x='year',y='lifeExp',label = \"Life Expectancy\",figsize=(8, 6))\n",
    "plt.suptitle('Life Expectancy Over the years', fontsize = 20)\n",
    "plt.xlabel('Year', fontsize = 16)\n",
    "plt.ylabel('Life Expectancy', fontsize = 16)\n",
    "plt.show() "
   ]
  },
  {
   "cell_type": "markdown",
   "metadata": {},
   "source": [
    "## Lets write some user-defined functions \n",
    "\n",
    "* only difference is that this includes data for only one contry that you wanted \n",
    "* however, what if you want to plot for a new country other than 'Canada'\n",
    "* you could make a new script that does what you desire and run it in the shell\n",
    "\n",
    "but let's do this totally in python using a function\n",
    "\n",
    "### Lets write functions for the follwing functionality \n",
    "\n",
    "* lets say we wanted to get data for one country\n",
    "* create a fucntion to abstract all the plotting functions "
   ]
  },
  {
   "cell_type": "code",
   "execution_count": 41,
   "metadata": {
    "collapsed": true
   },
   "outputs": [],
   "source": [
    "def get_country(country):\n",
    "    ####### data analysis #########\n",
    "    #select information about the 'country name '\n",
    "    country_df = my_file.loc[my_file['country'] == country]\n",
    "    return country_df"
   ]
  },
  {
   "cell_type": "code",
   "execution_count": 43,
   "metadata": {
    "collapsed": false
   },
   "outputs": [
    {
     "data": {
      "text/html": [
       "<div>\n",
       "<style scoped>\n",
       "    .dataframe tbody tr th:only-of-type {\n",
       "        vertical-align: middle;\n",
       "    }\n",
       "\n",
       "    .dataframe tbody tr th {\n",
       "        vertical-align: top;\n",
       "    }\n",
       "\n",
       "    .dataframe thead th {\n",
       "        text-align: right;\n",
       "    }\n",
       "</style>\n",
       "<table border=\"1\" class=\"dataframe\">\n",
       "  <thead>\n",
       "    <tr style=\"text-align: right;\">\n",
       "      <th></th>\n",
       "      <th>country</th>\n",
       "      <th>continent</th>\n",
       "      <th>year</th>\n",
       "      <th>lifeExp</th>\n",
       "      <th>pop</th>\n",
       "      <th>gdpPercap</th>\n",
       "    </tr>\n",
       "  </thead>\n",
       "  <tbody>\n",
       "    <tr>\n",
       "      <th>696</th>\n",
       "      <td>India</td>\n",
       "      <td>Asia</td>\n",
       "      <td>1952</td>\n",
       "      <td>37.373</td>\n",
       "      <td>372000000</td>\n",
       "      <td>546.565749</td>\n",
       "    </tr>\n",
       "    <tr>\n",
       "      <th>697</th>\n",
       "      <td>India</td>\n",
       "      <td>Asia</td>\n",
       "      <td>1957</td>\n",
       "      <td>40.249</td>\n",
       "      <td>409000000</td>\n",
       "      <td>590.061996</td>\n",
       "    </tr>\n",
       "    <tr>\n",
       "      <th>698</th>\n",
       "      <td>India</td>\n",
       "      <td>Asia</td>\n",
       "      <td>1962</td>\n",
       "      <td>43.605</td>\n",
       "      <td>454000000</td>\n",
       "      <td>658.347151</td>\n",
       "    </tr>\n",
       "    <tr>\n",
       "      <th>699</th>\n",
       "      <td>India</td>\n",
       "      <td>Asia</td>\n",
       "      <td>1967</td>\n",
       "      <td>47.193</td>\n",
       "      <td>506000000</td>\n",
       "      <td>700.770611</td>\n",
       "    </tr>\n",
       "    <tr>\n",
       "      <th>700</th>\n",
       "      <td>India</td>\n",
       "      <td>Asia</td>\n",
       "      <td>1972</td>\n",
       "      <td>50.651</td>\n",
       "      <td>567000000</td>\n",
       "      <td>724.032527</td>\n",
       "    </tr>\n",
       "  </tbody>\n",
       "</table>\n",
       "</div>"
      ],
      "text/plain": [
       "    country continent  year  lifeExp        pop   gdpPercap\n",
       "696   India      Asia  1952   37.373  372000000  546.565749\n",
       "697   India      Asia  1957   40.249  409000000  590.061996\n",
       "698   India      Asia  1962   43.605  454000000  658.347151\n",
       "699   India      Asia  1967   47.193  506000000  700.770611\n",
       "700   India      Asia  1972   50.651  567000000  724.032527"
      ]
     },
     "execution_count": 43,
     "metadata": {},
     "output_type": "execute_result"
    }
   ],
   "source": [
    "country_df = get_country('India')\n",
    "country_df.head()"
   ]
  },
  {
   "cell_type": "code",
   "execution_count": 37,
   "metadata": {
    "collapsed": true
   },
   "outputs": [],
   "source": [
    "def plotter(country_dataframe):\n",
    "    #plot lifeExp \n",
    "    country.plot.line(x='year',y='lifeExp',label = \"Life Expectancy\",figsize=(8, 6))\n",
    "    plt.suptitle('Life Expectancy of over the years', fontsize = 20)\n",
    "    plt.xlabel('Year', fontsize = 16)\n",
    "    plt.ylabel('Life Expectancy', fontsize = 16)\n",
    "    plt.show()"
   ]
  },
  {
   "cell_type": "code",
   "execution_count": 38,
   "metadata": {
    "collapsed": false
   },
   "outputs": [
    {
     "data": {
      "image/png": "[encoded data removed]",
      "text/plain": [
       "<matplotlib.figure.Figure at 0x115e9a2e8>"
      ]
     },
     "metadata": {},
     "output_type": "display_data"
    }
   ],
   "source": [
    "plotter(country)"
   ]
  },
  {
   "cell_type": "markdown",
   "metadata": {},
   "source": [
    "#### Lets Try to group them all together in a single script "
   ]
  },
  {
   "cell_type": "code",
   "execution_count": 40,
   "metadata": {
    "collapsed": false
   },
   "outputs": [
    {
     "data": {
      "image/png": "[encoded data removed]",
      "text/plain": [
       "<matplotlib.figure.Figure at 0x11657ba58>"
      ]
     },
     "metadata": {},
     "output_type": "display_data"
    },
    {
     "data": {
      "image/png": "[encoded data removed]",
      "text/plain": [
       "<matplotlib.figure.Figure at 0x11659cf28>"
      ]
     },
     "metadata": {},
     "output_type": "display_data"
    }
   ],
   "source": [
    "##This is PlotLifeExp.py script\n",
    "\n",
    "####### import statements ##########\n",
    "import pandas as pd\n",
    "import matplotlib.pyplot as plt\n",
    "\n",
    "\n",
    "####### User Defined Functions Begin ##########\n",
    "def get_country(country):\n",
    "    ####### data analysis #########\n",
    "    #select information about the 'country name '\n",
    "    country_df = my_file.loc[my_file['country'] == country]\n",
    "    return country_df\n",
    "\n",
    "def plotter(country_dataframe):\n",
    "    #plot lifeExp \n",
    "    country.plot.line(x='year',y='lifeExp',label = \"Life Expectancy\",figsize=(8, 6))\n",
    "    plt.suptitle('Life Expectancy of over the years', fontsize = 20)\n",
    "    plt.xlabel('Year', fontsize = 16)\n",
    "    plt.ylabel('Life Expectancy', fontsize = 16)\n",
    "    plt.show()\n",
    "    \n",
    "####### User Defined Functions End ##########\n",
    "\n",
    "#read data into python\n",
    "my_file = pd.read_table(\"gapminder.txt\")\n",
    "\n",
    "####### data analysis #########\n",
    "#select information about Canada\n",
    "canada = my_file.loc[my_file['country'] == \"Canada\"]\n",
    "\n",
    "#plot lifeExp \n",
    "plotter(canada)\n",
    "\n",
    "####### data analysis #########\n",
    "#select information about Greece\n",
    "greece = my_file.loc[my_file['country'] == \"Greece\"]\n",
    "\n",
    "#plot lifeExp \n",
    "plotter(greece)"
   ]
  },
  {
   "cell_type": "markdown",
   "metadata": {},
   "source": [
    "### But lets do some more tests to understand what functions return"
   ]
  },
  {
   "cell_type": "code",
   "execution_count": 44,
   "metadata": {
    "collapsed": false
   },
   "outputs": [
    {
     "data": {
      "text/plain": [
       "pandas.core.frame.DataFrame"
      ]
     },
     "execution_count": 44,
     "metadata": {},
     "output_type": "execute_result"
    }
   ],
   "source": [
    "type(country)"
   ]
  },
  {
   "cell_type": "markdown",
   "metadata": {},
   "source": [
    "> So its a DataFrame"
   ]
  }
 ],
 "metadata": {
  "kernelspec": {
   "display_name": "Python 3",
   "language": "python",
   "name": "python3"
  },
  "language_info": {
   "codemirror_mode": {
    "name": "ipython",
    "version": 3
   },
   "file_extension": ".py",
   "mimetype": "text/x-python",
   "name": "python",
   "nbconvert_exporter": "python",
   "pygments_lexer": "ipython3",
   "version": "3.6.0"
  }
 },
 "nbformat": 4,
 "nbformat_minor": 2
}
