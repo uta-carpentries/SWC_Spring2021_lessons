{
 "cells": [
  {
   "cell_type": "markdown",
   "metadata": {},
   "source": [
    "# Software Carpentry Workshop"
   ]
  },
  {
   "cell_type": "markdown",
   "metadata": {},
   "source": [
    "## Introduction to Python"
   ]
  },
  {
   "cell_type": "markdown",
   "metadata": {},
   "source": [
    "So far we have discussed the various linux commands that you could use on individual files as well as multiple files. One of the purpose of knowing shell commands is to get an idea on how to work with a server. This way, we can know how to create files or directories and navigate between different directories and so on. However, the intention of getting on a server is to perform the kind of computing our PCs or Macs cant perform in a reasonable amount of time. To help us with this \"heavy\" computing, __Python__ comes in handy. "
   ]
  },
  {
   "cell_type": "markdown",
   "metadata": {},
   "source": [
    "### Learning objectives of this workshop\n",
    "\n",
    "- Understand benefits of using Python\n",
    "- Understand how to go get data from Excel to Python\n",
    "- Understand building blocks of Python language\n",
    "- Understand how to extract parts of the dataset\n",
    "- Understand how to write simple Python scripts\n",
    "\n",
   ]
  },
  {
   "cell_type": "markdown",
   "metadata": {},
   "source": [
    "😯😯😯\n",
    "<!--- Change the path to this workshops lesson---> \n",
    "[Reports](https://github.com/uta-carpentries/SWC_spring2019_lessons/blob/master/Lesson6_GDP_report_Africa_Americas.ipynb)\n",
    "\n",
    "\n",
    "You can create the following graphs and leave a good impression.\n",
    "\n",
    "😯😯😯\n",
    "<!--- Change the path to this workshops lesson--->\n",
    "[Plots](https://github.com/uta-carpentries/SWC_spring2019_lessons/blob/master/Lesson5_Python_viz_plotnine.ipynb)\n"
   ]
  },
  {
   "cell_type": "markdown",
   "metadata": {},
   "source": [
    "## 1. Introduction to Python \n",
    "\n",
    "### Why Python ?\n",
    "\n",
    "Python is a general purpose programming language that supports rapid development of scripts and applications.\n",
    "\n",
    "Python’s main advantages:\n",
    "\n",
    "* Open Source software, supported by Python Software Foundation\n",
    "* Available on all platforms\n",
    "* It is a general-purpose programming language\n",
    "* Supports multiple programming paradigms\n",
    "* Very large community with a rich ecosystem of third-party packages"
   ]
  },
  {
   "cell_type": "markdown",
   "metadata": {},
   "source": [
    "This opens up to the Notebook User Interface (UI). This has three areas.\n",
    "\n",
    "* Menubar \n",
    "* Toolbar\n",
    "* Notebook area and cells\n",
    "\n",
    "We will learn more about these areas and their functions, as we move along. \n",
    "\n",
    "We can add new cell using the `+` option in tool bar. Using the Edit Menu, delete or merge multiple cells together.\n",
    "Now, I will give you few minutes to get used to the GUI.\n",
    "\n",
    "Now, if a cell is highlighted in green 💚, it means the cell is in edit mode. That is you can add, edit and delete contents of a cell like a normal text editor. But is If the cell is highlighted in blue 💙, it means the cell is in command mode. Here you can not add or modify contents of a particular cell, instead, you can work with the notebook as a whole. Its important to know that in command mode, the keys are mapped to different functions like to delete (DD) or merge cells (Shift+M) and so on.\n",
    "\n",
    "For now, let us get started with some basic math. Let us try the following commands one by one in `edit mode`. Type `3+5` and hit <kbd>Shift</kbd>+<kbd>Enter</kbd>."
   ]
  },
  {
   "cell_type": "code",
   "execution_count": 1,
   "metadata": {},
   "outputs": [
    {
     "data": {
      "text/plain": [
       "8"
      ]
     },
     "execution_count": 1,
     "metadata": {},
     "output_type": "execute_result"
    }
   ],
   "source": [
    "3+5"
   ]
  },
  {
   "cell_type": "markdown",
   "metadata": {},
   "source": [
    "Of Course, we can also use letters, words and sentences and view them."
   ]
  },
  {
   "cell_type": "code",
   "execution_count": 2,
   "metadata": {},
   "outputs": [
    {
     "name": "stdout",
     "output_type": "stream",
     "text": [
      "Welcome All !!!\n"
     ]
    }
   ],
   "source": [
    "print(\"Welcome All !!!\")"
   ]
  },
  {
   "cell_type": "markdown",
   "metadata": {},
   "source": [
    "In general, a function takes an input and transforms it according to the function's definition(rules). You can recognize functions in python by the presence of parantheses. Objects in parantheses are called function's `arguments`. In our example"
   ]
  },
  {
   "cell_type": "markdown",
   "metadata": {},
   "source": [
    "- `print()` is a built-in function. Meaning, the function is loaded in python by default.\n",
    "- `\"Welcome All\"` is an argument to the function."
   ]
  },
  {
   "cell_type": "markdown",
   "metadata": {},
   "source": [
    "Now,not all functions are present by default. Depending on the need, several built-in modules/packages are imported to the python.\n",
    "\n",
    "So whenever you catch me saying module or packages or library, I just mean a collection of different sets of built-in functions. \n",
    " \n",
    "Now if I want to calculate sqrt of a number, the function to calculate the square root is not present by default. So in this case we have to import the module which has sqrt function and then apply it."
   ]
  },
  {
   "cell_type": "code",
   "execution_count": 3,
   "metadata": {},
   "outputs": [
    {
     "data": {
      "text/plain": [
       "8.0"
      ]
     },
     "execution_count": 3,
     "metadata": {},
     "output_type": "execute_result"
    }
   ],
   "source": [
    "import math\n",
    "math.sqrt(64)"
   ]
  },
  {
   "cell_type": "markdown",
   "metadata": {},
   "source": [
    "Similarly, we can use python shell in interactive mode which opens as follows."
   ]
  },
  {
   "cell_type": "markdown",
   "metadata": {},
   "source": [
    "### Python Shell\n",
    "\n",
    "Open a new tab in the terminal and type `python` and hit enter.\n",
    "This should open python in interactive mode with `>>>` as shown.\n",
    "\n",
    "When you type commands in the terminal window and press <kbd>Enter</kbd>, they are executed immediately and the output is displayed. Here are few examples:  "
   ]
  },
  {
   "cell_type": "code",
   "execution_count": 4,
   "metadata": {},
   "outputs": [
    {
     "data": {
      "text/plain": [
       "8"
      ]
     },
     "execution_count": 4,
     "metadata": {},
     "output_type": "execute_result"
    }
   ],
   "source": [
    "3+5"
   ]
  },
  {
   "cell_type": "code",
   "execution_count": 5,
   "metadata": {},
   "outputs": [
    {
     "name": "stdout",
     "output_type": "stream",
     "text": [
      "Welcome All !!!\n"
     ]
    }
   ],
   "source": [
    "print(\"Welcome All !!!\")"
   ]
  },
  {
   "cell_type": "code",
   "execution_count": 6,
   "metadata": {},
   "outputs": [
    {
     "data": {
      "text/plain": [
       "8.0"
      ]
     },
     "execution_count": 6,
     "metadata": {},
     "output_type": "execute_result"
    }
   ],
   "source": [
    "import math\n",
    "math.sqrt(64)"
   ]
  },
  {
   "cell_type": "markdown",
   "metadata": {},
   "source": [
    "Symbol `>>>` means that the python is ready for the next command. If you enter incomplete commands, python will show a SyntaxError or a Nameerror. \n",
    "\n",
    "Alright then, we now have Jupyter Notebook as Integrated Development Environment (IDE) and Python Shell in interactive mode.\n",
    "\n",
    "These two options nudges few questions such as:\n",
    "\n",
    "* **Is it same or is it different?** - Same.\n",
    "\n",
    "* **Do we need jupyter notebook for python programming?** - No, it is not needed.\n",
    "\n",
    "Now that brings us to the next question.\n",
    "\n",
    "* **Which one should I use?** \n",
    "\n",
    "    * IDE for Python vs Interactive/Scripting Mode\n",
    "\n",
    "    * Functionality is all the same. \n",
    "\n",
    "    - But the advantage of Jupyter Notebook or any IDE for that matter is that, it integrates the work of a text editor and an interpreter for the language.  \n",
    "    - Also since it has a Graphical User Interface (GUI), it helps user to navigate through files and folders easier comparing the Python shell. \n",
    "    - Further, More importantly, there are other functions and advantages like creating reports, exporting as markdown or pdf file, which we will discuss later during the course of the workshop.  \n",
    "For this workshop we will be working with Jupyter Notebook. \n",
    "\n",
    "**Now lets get started**\n",
    "\n",
    "👍 "
   ]
  },
  {
   "cell_type": "markdown",
   "metadata": {},
   "source": [
    "## 2. Building blocks of Python\n",
    "\n",
    "Let's work in edit mode in Jupyter from now on so that you will have the record of all commands we used in this lesson.\n",
    "\n",
    "### Variables/objects\n",
    "\n",
    "One of the main concepts of any programming language is a notion of a variable. Variables are created to store values for future use.\n",
    "To create a variable in python, use `=` as assignment operator:"
   ]
  },
  {
   "cell_type": "code",
   "execution_count": 1,
   "metadata": {},
   "outputs": [
    {
     "name": "stdout",
     "output_type": "stream",
     "text": [
      "5\n",
      "ACT\n"
     ]
    }
   ],
   "source": [
    "a = 5\n",
    "print(a)\n",
    "\n",
    "## For Characters or words or sentences, referred as strings in python, We enclose the value within double quotes/single quotes.\n",
    "\n",
    "DNA = \"ACT\"\n",
    "print(DNA)"
   ]
  },
  {
   "cell_type": "markdown",
   "metadata": {},
   "source": [
    "We just created the smallest object in Python.\n",
    "\n",
    "**Challenge 2.1**"
   ]
  },
  {
   "cell_type": "code",
   "execution_count": 2,
   "metadata": {},
   "outputs": [],
   "source": [
    "#=====\n",
    "#TASK: What will be the value of each  variable  after each statement in the following code?\n",
    "#=====\n",
    "mass = 47.5\n",
    "height = 24.5\n",
    "age = 122\n",
    "mass = mass * 2.3\n",
    "age = age - 20\n",
    "height = height + 20      "
   ]
  },
  {
   "cell_type": "markdown",
   "metadata": {},
   "source": [
    "As you can see, a variable is assigned a value equal to the value of the evaluated expression on the right side of the assignment operator.\n",
    "\n",
    "**A note on variable names:**\n",
    "* NO SPACES in names\n",
    "* DO NOT START with numbers\n",
    "* Names should be MEANINGFUL - help yourself and others to understand your code!"
   ]
  },
  {
   "cell_type": "markdown",
   "metadata": {},
   "source": [
    "### Working with environment\n",
    "\n",
    "* List all variable defined in your environment"
   ]
  },
  {
   "cell_type": "code",
   "execution_count": 3,
   "metadata": {},
   "outputs": [
    {
     "name": "stdout",
     "output_type": "stream",
     "text": [
      "DNA\t a\t age\t height\t mass\t \n"
     ]
    }
   ],
   "source": [
    "who"
   ]
  },
  {
   "cell_type": "markdown",
   "metadata": {},
   "source": [
    "* Delete a specific variable in your environment"
   ]
  },
  {
   "cell_type": "code",
   "execution_count": 4,
   "metadata": {},
   "outputs": [],
   "source": [
    "del(DNA)\n",
    "del(a)"
   ]
  },
  {
   "cell_type": "markdown",
   "metadata": {},
   "source": [
    "* To delete all the variables"
   ]
  },
  {
   "cell_type": "code",
   "execution_count": 5,
   "metadata": {},
   "outputs": [
    {
     "name": "stdout",
     "output_type": "stream",
     "text": [
      "Once deleted, variables cannot be recovered. Proceed (y/[n])? y\n"
     ]
    }
   ],
   "source": [
    "reset"
   ]
  },
  {
   "cell_type": "markdown",
   "metadata": {},
   "source": [
    "### Functions\n",
    "\n",
    "In general, a function takes an input and transforms it according to the function's definition(rules). You can recognize functions in python by the presence of parantheses. Objects in parantheses are called function's `arguments`.\n",
    "\n",
    "`print()` is a widely used function"
   ]
  },
  {
   "cell_type": "code",
   "execution_count": 6,
   "metadata": {},
   "outputs": [
    {
     "name": "stdout",
     "output_type": "stream",
     "text": [
      "ATG\n"
     ]
    }
   ],
   "source": [
    "DNA = \"ATG\"\n",
    "print(DNA)"
   ]
  },
  {
   "cell_type": "markdown",
   "metadata": {},
   "source": [
    "- Here `print()` is a function.\n",
    "- `(DNA)` is an argument to the function.\n",
    "\n",
    "**To Apply square root function**"
   ]
  },
  {
   "cell_type": "code",
   "execution_count": 7,
   "metadata": {},
   "outputs": [
    {
     "name": "stdout",
     "output_type": "stream",
     "text": [
      "8.0\n"
     ]
    }
   ],
   "source": [
    "import math\n",
    "a = 64\n",
    "math.sqrt(a)\n",
    "sqrt_a = math.sqrt(a)\n",
    "print(sqrt_a)"
   ]
  },
  {
   "cell_type": "markdown",
   "metadata": {},
   "source": [
    "- `math` is the module which has square root function. A module is a collection of several related functions.\n",
    "- `sqrt()` is the function\n",
    "- `(a)` is the argument to the function.\n",
    "- The square root of the `a` is now assigned to a new variable named `sqrt_a`\n",
    "- `print()` function takes `sqrt_a` as argument and displays it to the user.\n",
    "\n",
    "**Help function**\n",
    "\n",
    "help() is a very useful function. When help() is applied to a a module, it lists all the functions in the module and provides a brief summary on the utility of each function. When help() is applied to specific function it gives a quick summary of that particular function."
   ]
  },
  {
   "cell_type": "code",
   "execution_count": 8,
   "metadata": {},
   "outputs": [
    {
     "name": "stdout",
     "output_type": "stream",
     "text": [
      "Help on module math:\n",
      "\n",
      "NAME\n",
      "    math\n",
      "\n",
      "MODULE REFERENCE\n",
      "    https://docs.python.org/3.7/library/math\n",
      "    \n",
      "    The following documentation is automatically generated from the Python\n",
      "    source files.  It may be incomplete, incorrect or include features that\n",
      "    are considered implementation detail and may vary between Python\n",
      "    implementations.  When in doubt, consult the module reference at the\n",
      "    location listed above.\n",
      "\n",
      "DESCRIPTION\n",
      "    This module is always available.  It provides access to the\n",
      "    mathematical functions defined by the C standard.\n",
      "\n",
      "FUNCTIONS\n",
      "    acos(x, /)\n",
      "        Return the arc cosine (measured in radians) of x.\n",
      "    \n",
      "    acosh(x, /)\n",
      "        Return the inverse hyperbolic cosine of x.\n",
      "    \n",
      "    asin(x, /)\n",
      "        Return the arc sine (measured in radians) of x.\n",
      "    \n",
      "    asinh(x, /)\n",
      "        Return the inverse hyperbolic sine of x.\n",
      "    \n",
      "    atan(x, /)\n",
      "        Return the arc tangent (measured in radians) of x.\n",
      "    \n",
      "    atan2(y, x, /)\n",
      "        Return the arc tangent (measured in radians) of y/x.\n",
      "        \n",
      "        Unlike atan(y/x), the signs of both x and y are considered.\n",
      "    \n",
      "    atanh(x, /)\n",
      "        Return the inverse hyperbolic tangent of x.\n",
      "    \n",
      "    ceil(x, /)\n",
      "        Return the ceiling of x as an Integral.\n",
      "        \n",
      "        This is the smallest integer >= x.\n",
      "    \n",
      "    copysign(x, y, /)\n",
      "        Return a float with the magnitude (absolute value) of x but the sign of y.\n",
      "        \n",
      "        On platforms that support signed zeros, copysign(1.0, -0.0)\n",
      "        returns -1.0.\n",
      "    \n",
      "    cos(x, /)\n",
      "        Return the cosine of x (measured in radians).\n",
      "    \n",
      "    cosh(x, /)\n",
      "        Return the hyperbolic cosine of x.\n",
      "    \n",
      "    degrees(x, /)\n",
      "        Convert angle x from radians to degrees.\n",
      "    \n",
      "    erf(x, /)\n",
      "        Error function at x.\n",
      "    \n",
      "    erfc(x, /)\n",
      "        Complementary error function at x.\n",
      "    \n",
      "    exp(x, /)\n",
      "        Return e raised to the power of x.\n",
      "    \n",
      "    expm1(x, /)\n",
      "        Return exp(x)-1.\n",
      "        \n",
      "        This function avoids the loss of precision involved in the direct evaluation of exp(x)-1 for small x.\n",
      "    \n",
      "    fabs(x, /)\n",
      "        Return the absolute value of the float x.\n",
      "    \n",
      "    factorial(x, /)\n",
      "        Find x!.\n",
      "        \n",
      "        Raise a ValueError if x is negative or non-integral.\n",
      "    \n",
      "    floor(x, /)\n",
      "        Return the floor of x as an Integral.\n",
      "        \n",
      "        This is the largest integer <= x.\n",
      "    \n",
      "    fmod(x, y, /)\n",
      "        Return fmod(x, y), according to platform C.\n",
      "        \n",
      "        x % y may differ.\n",
      "    \n",
      "    frexp(x, /)\n",
      "        Return the mantissa and exponent of x, as pair (m, e).\n",
      "        \n",
      "        m is a float and e is an int, such that x = m * 2.**e.\n",
      "        If x is 0, m and e are both 0.  Else 0.5 <= abs(m) < 1.0.\n",
      "    \n",
      "    fsum(seq, /)\n",
      "        Return an accurate floating point sum of values in the iterable seq.\n",
      "        \n",
      "        Assumes IEEE-754 floating point arithmetic.\n",
      "    \n",
      "    gamma(x, /)\n",
      "        Gamma function at x.\n",
      "    \n",
      "    gcd(x, y, /)\n",
      "        greatest common divisor of x and y\n",
      "    \n",
      "    hypot(x, y, /)\n",
      "        Return the Euclidean distance, sqrt(x*x + y*y).\n",
      "    \n",
      "    isclose(a, b, *, rel_tol=1e-09, abs_tol=0.0)\n",
      "        Determine whether two floating point numbers are close in value.\n",
      "        \n",
      "          rel_tol\n",
      "            maximum difference for being considered \"close\", relative to the\n",
      "            magnitude of the input values\n",
      "          abs_tol\n",
      "            maximum difference for being considered \"close\", regardless of the\n",
      "            magnitude of the input values\n",
      "        \n",
      "        Return True if a is close in value to b, and False otherwise.\n",
      "        \n",
      "        For the values to be considered close, the difference between them\n",
      "        must be smaller than at least one of the tolerances.\n",
      "        \n",
      "        -inf, inf and NaN behave similarly to the IEEE 754 Standard.  That\n",
      "        is, NaN is not close to anything, even itself.  inf and -inf are\n",
      "        only close to themselves.\n",
      "    \n",
      "    isfinite(x, /)\n",
      "        Return True if x is neither an infinity nor a NaN, and False otherwise.\n",
      "    \n",
      "    isinf(x, /)\n",
      "        Return True if x is a positive or negative infinity, and False otherwise.\n",
      "    \n",
      "    isnan(x, /)\n",
      "        Return True if x is a NaN (not a number), and False otherwise.\n",
      "    \n",
      "    ldexp(x, i, /)\n",
      "        Return x * (2**i).\n",
      "        \n",
      "        This is essentially the inverse of frexp().\n",
      "    \n",
      "    lgamma(x, /)\n",
      "        Natural logarithm of absolute value of Gamma function at x.\n",
      "    \n",
      "    log(...)\n",
      "        log(x, [base=math.e])\n",
      "        Return the logarithm of x to the given base.\n",
      "        \n",
      "        If the base not specified, returns the natural logarithm (base e) of x.\n",
      "    \n",
      "    log10(x, /)\n",
      "        Return the base 10 logarithm of x.\n",
      "    \n",
      "    log1p(x, /)\n",
      "        Return the natural logarithm of 1+x (base e).\n",
      "        \n",
      "        The result is computed in a way which is accurate for x near zero.\n",
      "    \n",
      "    log2(x, /)\n",
      "        Return the base 2 logarithm of x.\n",
      "    \n",
      "    modf(x, /)\n",
      "        Return the fractional and integer parts of x.\n",
      "        \n",
      "        Both results carry the sign of x and are floats.\n",
      "    \n",
      "    pow(x, y, /)\n",
      "        Return x**y (x to the power of y).\n",
      "    \n",
      "    radians(x, /)\n",
      "        Convert angle x from degrees to radians.\n",
      "    \n",
      "    remainder(x, y, /)\n",
      "        Difference between x and the closest integer multiple of y.\n",
      "        \n",
      "        Return x - n*y where n*y is the closest integer multiple of y.\n",
      "        In the case where x is exactly halfway between two multiples of\n",
      "        y, the nearest even value of n is used. The result is always exact.\n",
      "    \n",
      "    sin(x, /)\n",
      "        Return the sine of x (measured in radians).\n",
      "    \n",
      "    sinh(x, /)\n",
      "        Return the hyperbolic sine of x.\n",
      "    \n",
      "    sqrt(x, /)\n",
      "        Return the square root of x.\n",
      "    \n",
      "    tan(x, /)\n",
      "        Return the tangent of x (measured in radians).\n",
      "    \n",
      "    tanh(x, /)\n",
      "        Return the hyperbolic tangent of x.\n",
      "    \n",
      "    trunc(x, /)\n",
      "        Truncates the Real x to the nearest Integral toward 0.\n",
      "        \n",
      "        Uses the __trunc__ magic method.\n",
      "\n",
      "DATA\n",
      "    e = 2.718281828459045\n",
      "    inf = inf\n",
      "    nan = nan\n",
      "    pi = 3.141592653589793\n",
      "    tau = 6.283185307179586\n",
      "\n",
      "FILE\n",
      "    /anaconda3/lib/python3.7/lib-dynload/math.cpython-37m-darwin.so\n",
      "\n",
      "\n"
     ]
    }
   ],
   "source": [
    "help(math)"
   ]
  },
  {
   "cell_type": "markdown",
   "metadata": {},
   "source": [
    "**Present directory is given by**"
   ]
  },
  {
   "cell_type": "code",
   "execution_count": 9,
   "metadata": {},
   "outputs": [
    {
     "data": {
      "text/plain": [
       "'/Users/balan/Desktop'"
      ]
     },
     "execution_count": 9,
     "metadata": {},
     "output_type": "execute_result"
    }
   ],
   "source": [
    "pwd"
   ]
  },
  {
   "cell_type": "markdown",
   "metadata": {},
   "source": [
    "### Data types\n",
    "\n",
    "Variables can hold values of various datatypes. Most common data types are:\n",
    "\n",
    "  * int\n",
    "  * float\n",
    "  * str\n",
    "  * bool\n",
    "Let's assign 45 to a variable `age`."
   ]
  },
  {
   "cell_type": "code",
   "execution_count": 11,
   "metadata": {},
   "outputs": [
    {
     "name": "stdout",
     "output_type": "stream",
     "text": [
      "<class 'int'>\n",
      "<class 'str'>\n"
     ]
    },
    {
     "data": {
      "text/plain": [
       "3"
      ]
     },
     "execution_count": 11,
     "metadata": {},
     "output_type": "execute_result"
    }
   ],
   "source": [
    "age = 45\n",
    "\n",
    "#some useful functions to know more about the object\n",
    "a = type(age)\n",
    "print(a)\n",
    "\n",
    "dna = \"ATC\"\n",
    "a = type(dna)\n",
    "print(a)\n",
    "\n",
    "#some useful functions to know more about the object\n",
    "len(dna)"
   ]
  },
  {
   "cell_type": "markdown",
   "metadata": {},
   "source": [
    "For example: What data type is stored in `score` variable?"
   ]
  },
  {
   "cell_type": "code",
   "execution_count": 1,
   "metadata": {},
   "outputs": [
    {
     "name": "stdout",
     "output_type": "stream",
     "text": [
      "<class 'int'>\n"
     ]
    }
   ],
   "source": [
    "score = 79\n",
    "print(type(score))"
   ]
  },
  {
   "cell_type": "markdown",
   "metadata": {},
   "source": [
    "The last expression in the above example of nested function. Nested functions are very common in python, but are very difficult to understand at first. You can always split nested function into a series of single function calls. Remember that the variable inside the most inner paranthesis is an argument(input)for the function that will be evaluated first.\n",
    "\n",
    "\n",
    "Sometimes you will need to convert between data types. There are functions that do that:  \n",
    "  * int()\n",
    "  * float()\n",
    "  * str()\n",
    "\n",
    "**Challenge 2.1: Learn how to read the output of nested help functions**"
   ]
  },
  {
   "cell_type": "code",
   "execution_count": 2,
   "metadata": {},
   "outputs": [
    {
     "data": {
      "text/plain": [
       "str"
      ]
     },
     "execution_count": 2,
     "metadata": {},
     "output_type": "execute_result"
    }
   ],
   "source": [
    "# TASK: Break the following expression into multiple single function calls.\n",
    "#You will need to assign the output of each function to a variable that\n",
    "#will serve as an input(argument) for the next function.\n",
    "#What is the value of each variable? What does each function do?\n",
    "#Assign: `score = 79`\n",
    "\n",
    "type(str(type(float(score))))"
   ]
  },
  {
   "cell_type": "markdown",
   "metadata": {},
   "source": [
    "The conversion between data types is not always possible - why? Let's see what happens here:"
   ]
  },
  {
   "cell_type": "code",
   "execution_count": 4,
   "metadata": {},
   "outputs": [
    {
     "name": "stdout",
     "output_type": "stream",
     "text": [
      "<class 'str'>\n"
     ]
    },
    {
     "ename": "ValueError",
     "evalue": "invalid literal for int() with base 10: 'ATG'",
     "output_type": "error",
     "traceback": [
      "\u001b[0;31m---------------------------------------------------------------------------\u001b[0m",
      "\u001b[0;31mValueError\u001b[0m                                Traceback (most recent call last)",
      "\u001b[0;32m<ipython-input-4-f20b79681048>\u001b[0m in \u001b[0;36m<module>\u001b[0;34m\u001b[0m\n\u001b[1;32m      6\u001b[0m \u001b[0mdna\u001b[0m \u001b[0;34m=\u001b[0m \u001b[0;34m\"ATG\"\u001b[0m\u001b[0;34m\u001b[0m\u001b[0;34m\u001b[0m\u001b[0m\n\u001b[1;32m      7\u001b[0m \u001b[0mtype\u001b[0m\u001b[0;34m(\u001b[0m\u001b[0mdna\u001b[0m\u001b[0;34m)\u001b[0m\u001b[0;34m\u001b[0m\u001b[0;34m\u001b[0m\u001b[0m\n\u001b[0;32m----> 8\u001b[0;31m \u001b[0mtype\u001b[0m\u001b[0;34m(\u001b[0m\u001b[0mint\u001b[0m\u001b[0;34m(\u001b[0m\u001b[0mdna\u001b[0m\u001b[0;34m)\u001b[0m\u001b[0;34m)\u001b[0m\u001b[0;34m\u001b[0m\u001b[0;34m\u001b[0m\u001b[0m\n\u001b[0m",
      "\u001b[0;31mValueError\u001b[0m: invalid literal for int() with base 10: 'ATG'"
     ]
    }
   ],
   "source": [
    "score = 79\n",
    "type(score)\n",
    "type(str(score))\n",
    "print(type(str(score)))\n",
    "##################\n",
    "dna = \"ATG\"\n",
    "type(dna)\n",
    "type(int(dna))"
   ]
  },
  {
   "cell_type": "markdown",
   "metadata": {},
   "source": [
    "### Data structures\n",
    "\n",
    "The small objects can be combined to build larger objects. Look at the gapminder dataset again. Our smallest objects can be used to represent a single element in the dataset, like individual year, or individual country, but what would be the simplest object that you can make with multiple elements?\n",
    "\n",
    "### List\n",
    "\n",
    "List is a data structure in python that holds different data types as a single list as an ordered sequence. Each value in the list is separated by comma (,) and is indexed. Indexing starts from 0.\n",
    "\n",
    "For example:"
   ]
  },
  {
   "cell_type": "code",
   "execution_count": 5,
   "metadata": {},
   "outputs": [
    {
     "name": "stdout",
     "output_type": "stream",
     "text": [
      "<class 'list'>\n"
     ]
    }
   ],
   "source": [
    "list = [5,6.7,\"Texas\"]\n",
    "print(type(list))"
   ]
  },
  {
   "cell_type": "markdown",
   "metadata": {},
   "source": [
    ">  Notice the use of square brackets.\n",
    "\n",
    " |list   |= |5 | 6.7 | \"Texas\" |\n",
    " |:----- |:-|:-|:----|:--------|\n",
    " |From Left|\n",
    " |Index  |= |0 | 1   |  2      |\n",
    " |From Right|\n",
    " |Index  |= |-3| -2  |  -1     |"
   ]
  },
  {
   "cell_type": "code",
   "execution_count": 6,
   "metadata": {},
   "outputs": [
    {
     "name": "stdout",
     "output_type": "stream",
     "text": [
      "<class 'int'>\n",
      "<class 'float'>\n",
      "<class 'str'>\n"
     ]
    }
   ],
   "source": [
    "list = [5,6.7,\"Texas\"]\n",
    "print(type(list[0]))\n",
    "print(type(list[1]))\n",
    "print(type(list[2]))"
   ]
  },
  {
   "cell_type": "markdown",
   "metadata": {},
   "source": [
    "Now if you wanted to change a value say 6.7 to 5.4, you can do that. This property of the list is called `**mutable property**`"
   ]
  },
  {
   "cell_type": "markdown",
   "metadata": {},
   "source": [
    "### Tuple\n",
    "\n",
    "Tuples are similar to list. They can hold different data types as a list of values separated by comma(,).\n",
    "\n",
    "For example:"
   ]
  },
  {
   "cell_type": "code",
   "execution_count": 7,
   "metadata": {},
   "outputs": [
    {
     "name": "stdout",
     "output_type": "stream",
     "text": [
      "<class 'tuple'>\n"
     ]
    }
   ],
   "source": [
    "tuple = (5,6.7,\"Texas\")\n",
    "print(type(tuple))"
   ]
  },
  {
   "cell_type": "markdown",
   "metadata": {},
   "source": [
    "> Notice the use of simple brackets or parantheses.\n",
    "\n",
    " |tuple  |= |5 | 6.7 | \"Texas\" |\n",
    " |:----- |:-|:-|:----|:--------|\n",
    " ||From Left||\n",
    " |Index  |= |0 | 1   |  2      |\n",
    " ||From Right||\n",
    " |Index  |= |-3| -2  |  -1     |\n",
    "\n",
    "\n",
    "> Now if you wanted to change a value say 6.7 to 5.4, you **CANNOT** do that. This property of the tuples makes them `**immutable**`"
   ]
  },
  {
   "cell_type": "code",
   "execution_count": 8,
   "metadata": {},
   "outputs": [
    {
     "ename": "TypeError",
     "evalue": "'tuple' object does not support item assignment",
     "output_type": "error",
     "traceback": [
      "\u001b[0;31m---------------------------------------------------------------------------\u001b[0m",
      "\u001b[0;31mTypeError\u001b[0m                                 Traceback (most recent call last)",
      "\u001b[0;32m<ipython-input-8-026b5c1fb7b8>\u001b[0m in \u001b[0;36m<module>\u001b[0;34m\u001b[0m\n\u001b[1;32m      1\u001b[0m \u001b[0mtuple\u001b[0m \u001b[0;34m=\u001b[0m \u001b[0;34m(\u001b[0m\u001b[0;36m5\u001b[0m\u001b[0;34m,\u001b[0m\u001b[0;36m6.7\u001b[0m\u001b[0;34m,\u001b[0m\u001b[0;34m\"Texas\"\u001b[0m\u001b[0;34m)\u001b[0m\u001b[0;34m\u001b[0m\u001b[0;34m\u001b[0m\u001b[0m\n\u001b[0;32m----> 2\u001b[0;31m \u001b[0mtuple\u001b[0m\u001b[0;34m[\u001b[0m\u001b[0;36m1\u001b[0m\u001b[0;34m]\u001b[0m \u001b[0;34m=\u001b[0m \u001b[0;36m5.4\u001b[0m\u001b[0;34m\u001b[0m\u001b[0;34m\u001b[0m\u001b[0m\n\u001b[0m",
      "\u001b[0;31mTypeError\u001b[0m: 'tuple' object does not support item assignment"
     ]
    }
   ],
   "source": [
    "tuple = (5,6.7,\"Texas\")\n",
    "tuple[1] = 5.4"
   ]
  },
  {
   "cell_type": "markdown",
   "metadata": {},
   "source": [
    "> But in list, we can do it. Therefore lists are `mutable`."
   ]
  },
  {
   "cell_type": "code",
   "execution_count": 9,
   "metadata": {},
   "outputs": [
    {
     "name": "stdout",
     "output_type": "stream",
     "text": [
      "[5, 5.4, 'Texas']\n"
     ]
    }
   ],
   "source": [
    "list = [5,6.7,\"Texas\"]\n",
    "list[1] = 5.4\n",
    "print(list)"
   ]
  },
  {
   "cell_type": "markdown",
   "metadata": {},
   "source": [
    "### Dictionary\n",
    "\n",
    "A dictionary is a container that holds pairs of objects - keys and values. Each key-value pair is an element of the dictionary separated from the next element by a comma. Dictionary is not ordered or indexed as lists and tuples. Each value is accessible by its key and key can only be either a string or an integer data type. It can not be a list. But values in the list can be a list or a tuple."
   ]
  },
  {
   "cell_type": "code",
   "execution_count": 11,
   "metadata": {},
   "outputs": [
    {
     "name": "stdout",
     "output_type": "stream",
     "text": [
      "atc\n"
     ]
    },
    {
     "ename": "KeyError",
     "evalue": "3",
     "output_type": "error",
     "traceback": [
      "\u001b[0;31m---------------------------------------------------------------------------\u001b[0m",
      "\u001b[0;31mKeyError\u001b[0m                                  Traceback (most recent call last)",
      "\u001b[0;32m<ipython-input-11-b72cf9bbc0a1>\u001b[0m in \u001b[0;36m<module>\u001b[0;34m\u001b[0m\n\u001b[1;32m      1\u001b[0m \u001b[0mdictionary\u001b[0m \u001b[0;34m=\u001b[0m \u001b[0;34m{\u001b[0m\u001b[0;34m\"Number_1\"\u001b[0m\u001b[0;34m:\u001b[0m\u001b[0;34m\"one\"\u001b[0m\u001b[0;34m,\u001b[0m\u001b[0;34m\"Number_2\"\u001b[0m\u001b[0;34m:\u001b[0m\u001b[0;34m\"two\"\u001b[0m\u001b[0;34m,\u001b[0m\u001b[0;34m\"Number_3\"\u001b[0m\u001b[0;34m:\u001b[0m\u001b[0;34m\"three\"\u001b[0m\u001b[0;34m,\u001b[0m\u001b[0;34m\"dna\"\u001b[0m\u001b[0;34m:\u001b[0m\u001b[0;34m\"atc\"\u001b[0m\u001b[0;34m,\u001b[0m\u001b[0;34m\"protein\"\u001b[0m\u001b[0;34m:\u001b[0m\u001b[0;34m\"hyr\"\u001b[0m\u001b[0;34m}\u001b[0m\u001b[0;34m\u001b[0m\u001b[0;34m\u001b[0m\u001b[0m\n\u001b[1;32m      2\u001b[0m \u001b[0mprint\u001b[0m\u001b[0;34m(\u001b[0m\u001b[0mdictionary\u001b[0m\u001b[0;34m[\u001b[0m\u001b[0;34m\"dna\"\u001b[0m\u001b[0;34m]\u001b[0m\u001b[0;34m)\u001b[0m\u001b[0;34m\u001b[0m\u001b[0;34m\u001b[0m\u001b[0m\n\u001b[0;32m----> 3\u001b[0;31m \u001b[0mprint\u001b[0m\u001b[0;34m(\u001b[0m\u001b[0mdictionary\u001b[0m\u001b[0;34m[\u001b[0m\u001b[0;36m3\u001b[0m\u001b[0;34m]\u001b[0m\u001b[0;34m)\u001b[0m\u001b[0;34m\u001b[0m\u001b[0;34m\u001b[0m\u001b[0m\n\u001b[0m",
      "\u001b[0;31mKeyError\u001b[0m: 3"
     ]
    }
   ],
   "source": [
    "dictionary = {\"Number_1\":\"one\",\"Number_2\":\"two\",\"Number_3\":\"three\",\"dna\":\"atc\",\"protein\":\"hyr\"}\n",
    "print(dictionary[\"dna\"])\n",
    "print(dictionary[3])"
   ]
  },
  {
   "cell_type": "markdown",
   "metadata": {},
   "source": [
    "> Notice the use of curly brackets\n",
    "\n",
    "Now lets practice working with various data types by creating a dictionary."
   ]
  },
  {
   "cell_type": "code",
   "execution_count": 15,
   "metadata": {},
   "outputs": [
    {
     "name": "stdout",
     "output_type": "stream",
     "text": [
      "{'menuItems': ['chicken', 'soup', 'salad', 'tea'], 'menuType': ['solid', 'liquid', 'solid', 'liquid'], 'menuCost': [4.99, 2.99, 3.29, 1.89]}\n"
     ]
    }
   ],
   "source": [
    "myOrder={\n",
    "    \"menuItems\":[\"chicken\", \"soup\",\"salad\",\"tea\"],\n",
    "    \"menuType\" : [\"solid\",\"liquid\",\"solid\",\"liquid\"],\n",
    "    \"menuCost\" : [4.99,2.99,3.29,1.89]\n",
    "}\n",
    "print(myOrder)"
   ]
  },
  {
   "cell_type": "markdown",
   "metadata": {},
   "source": [
    "## 3.Data Frame with Pandas\n",
    "\n",
    "One of the best options for working with tabular data in Python is to use the Python Data Analysis Library (a.k.a. Pandas). The Pandas library provides data structures, produces high quality plots with matplotlib and integrates nicely with other libraries that use NumPy (which is another Python library) arrays.\n",
    "\n",
    "Python doesn’t load all of the libraries available to it by default. We have to add an import statement to our code in order to use library functions. To import a library, we use the syntax `import libraryName`. If we want to give the library a nickname to shorten the command, we can add as nickNameHere. An example of importing the pandas library using the common nickname pd is below.\n"
   ]
  },
  {
   "cell_type": "code",
   "execution_count": 16,
   "metadata": {},
   "outputs": [],
   "source": [
    "import pandas as pd"
   ]
  },
  {
   "cell_type": "markdown",
   "metadata": {},
   "source": [
    "* Let's go to gapminder dataset. Could you make an informative guess about how this data structure can be represented in python?\n",
    "\n",
    "* Yes! It is a list of tuples of equal length, or a data frame. Data frames are extremely useful data structures as they represent table-like datasets. Let's look at our myOrder list to see if we can make data frame out of it. Is the list we just made suitable for a data frame? Yes, the elements of the list are vectors of equal size.\n",
    "\n",
    "Previously we used `list[]` to combine our elements:"
   ]
  },
  {
   "cell_type": "code",
   "execution_count": 17,
   "metadata": {},
   "outputs": [
    {
     "data": {
      "text/html": [
       "<div>\n",
       "<style scoped>\n",
       "    .dataframe tbody tr th:only-of-type {\n",
       "        vertical-align: middle;\n",
       "    }\n",
       "\n",
       "    .dataframe tbody tr th {\n",
       "        vertical-align: top;\n",
       "    }\n",
       "\n",
       "    .dataframe thead th {\n",
       "        text-align: right;\n",
       "    }\n",
       "</style>\n",
       "<table border=\"1\" class=\"dataframe\">\n",
       "  <thead>\n",
       "    <tr style=\"text-align: right;\">\n",
       "      <th></th>\n",
       "      <th>menuItems</th>\n",
       "      <th>menuType</th>\n",
       "      <th>menuCost</th>\n",
       "    </tr>\n",
       "  </thead>\n",
       "  <tbody>\n",
       "    <tr>\n",
       "      <th>0</th>\n",
       "      <td>chicken</td>\n",
       "      <td>solid</td>\n",
       "      <td>4.99</td>\n",
       "    </tr>\n",
       "    <tr>\n",
       "      <th>1</th>\n",
       "      <td>soup</td>\n",
       "      <td>liquid</td>\n",
       "      <td>2.99</td>\n",
       "    </tr>\n",
       "    <tr>\n",
       "      <th>2</th>\n",
       "      <td>salad</td>\n",
       "      <td>solid</td>\n",
       "      <td>3.29</td>\n",
       "    </tr>\n",
       "    <tr>\n",
       "      <th>3</th>\n",
       "      <td>tea</td>\n",
       "      <td>liquid</td>\n",
       "      <td>1.89</td>\n",
       "    </tr>\n",
       "  </tbody>\n",
       "</table>\n",
       "</div>"
      ],
      "text/plain": [
       "  menuItems menuType  menuCost\n",
       "0   chicken    solid      4.99\n",
       "1      soup   liquid      2.99\n",
       "2     salad    solid      3.29\n",
       "3       tea   liquid      1.89"
      ]
     },
     "execution_count": 17,
     "metadata": {},
     "output_type": "execute_result"
    }
   ],
   "source": [
    "myOrder = {\n",
    "    \"menuItems\":[\"chicken\", \"soup\",\"salad\",\"tea\"],\n",
    "    \"menuType\":[\"solid\",\"liquid\",\"solid\",\"liquid\"],\n",
    "    \"menuCost\":[4.99,2.99,3.29,1.89]}\n",
    "myOrder = pd.DataFrame(data=myOrder)\n",
    "myOrder"
   ]
  },
  {
   "cell_type": "markdown",
   "metadata": {},
   "source": [
    "### Importing the data using Pandas  \n",
    "\n",
    "Let's copy the `gapminder.txt` to the present directory so that the original file is untouched."
   ]
  },
  {
   "cell_type": "code",
   "execution_count": 20,
   "metadata": {},
   "outputs": [],
   "source": [
    "### For tab separated file\n",
    "my_file = pd.read_csv(\"gapminder.txt\", delimiter = \"\\t\")"
   ]
  },
  {
   "cell_type": "markdown",
   "metadata": {},
   "source": [
    "Similar to tab-separated file, you can use comma separated file as well as excel file."
   ]
  },
  {
   "cell_type": "code",
   "execution_count": null,
   "metadata": {},
   "outputs": [],
   "source": [
    "### For comma separated file\n",
    "my_file = pd.read_csv(\"gapminder.csv\")\n",
    "\n",
    "### For excel file\n",
    "my_file = pd.read_excel(\"gapminder.xlsx\")"
   ]
  },
  {
   "cell_type": "markdown",
   "metadata": {},
   "source": [
    "### Subsetting Dataframes\n",
    "\n",
    "Now lets look at the top few lines and last few lines in the df."
   ]
  },
  {
   "cell_type": "code",
   "execution_count": 23,
   "metadata": {},
   "outputs": [
    {
     "name": "stdout",
     "output_type": "stream",
     "text": [
      "       country continent  year  lifeExp       pop   gdpPercap\n",
      "0  Afghanistan      Asia  1952   28.801   8425333  779.445314\n",
      "1  Afghanistan      Asia  1957   30.332   9240934  820.853030\n",
      "2  Afghanistan      Asia  1962   31.997  10267083  853.100710\n",
      "3  Afghanistan      Asia  1967   34.020  11537966  836.197138\n",
      "4  Afghanistan      Asia  1972   36.088  13079460  739.981106\n",
      "5  Afghanistan      Asia  1977   38.438  14880372  786.113360\n",
      "6  Afghanistan      Asia  1982   39.854  12881816  978.011439\n",
      "7  Afghanistan      Asia  1987   40.822  13867957  852.395945\n",
      "8  Afghanistan      Asia  1992   41.674  16317921  649.341395\n",
      "9  Afghanistan      Asia  1997   41.763  22227415  635.341351\n",
      "       country continent  year  lifeExp       pop   gdpPercap\n",
      "1694  Zimbabwe    Africa  1962   52.358   4277736  527.272182\n",
      "1695  Zimbabwe    Africa  1967   53.995   4995432  569.795071\n",
      "1696  Zimbabwe    Africa  1972   55.635   5861135  799.362176\n",
      "1697  Zimbabwe    Africa  1977   57.674   6642107  685.587682\n",
      "1698  Zimbabwe    Africa  1982   60.363   7636524  788.855041\n",
      "1699  Zimbabwe    Africa  1987   62.351   9216418  706.157306\n",
      "1700  Zimbabwe    Africa  1992   60.377  10704340  693.420786\n",
      "1701  Zimbabwe    Africa  1997   46.809  11404948  792.449960\n",
      "1702  Zimbabwe    Africa  2002   39.989  11926563  672.038623\n",
      "1703  Zimbabwe    Africa  2007   43.487  12311143  469.709298\n"
     ]
    }
   ],
   "source": [
    "### Read in the first 10 lines of data frame\n",
    "file_dataframe = my_file.head(10)\n",
    "print(file_dataframe)\n",
    "\n",
    "### Read in the last 10 lines of data frame\n",
    "file_dataframe = my_file.tail(10)\n",
    "print(file_dataframe)"
   ]
  },
  {
   "cell_type": "markdown",
   "metadata": {},
   "source": [
    "😯😯😯\n",
    "\n",
    "There are three main options to achieve the selection and indexing activities in Pandas. They are:\n",
    "\n",
    "1. Selecting data by indexing (.iloc)\n",
    "2. Selecting data by label(.loc)\n",
    "3. Selecting data by a conditional statment/logical statements\n",
    "\n",
    "### Selecting data by indexing (.iloc)\n",
    "\n",
    "The first method that we will see is the **integer-based location indexing** or **iloc**. The rows are numbered from 0 through the end of rows. Similarly for columns, they are numbered from 0 through the end of the column.\n",
    "\n",
    "So the general syntax is"
   ]
  },
  {
   "cell_type": "code",
   "execution_count": null,
   "metadata": {},
   "outputs": [],
   "source": [
    "# For a specific row, column - Here in this case, the subset is a series\n",
    "print(dataframe.iloc[row,column])\n",
    "\n",
    "# For a set of rows and for a set of columns - Here its a dataframe\n",
    "print(dataframe.iloc[[<row selection>],[<column selection>]])"
   ]
  },
  {
   "cell_type": "markdown",
   "metadata": {},
   "source": [
    "Now, let us subset our gapminder dataset using iloc to understand its functionality better.\n",
    "\n",
    "If you want to the first row and third column, we would subset using iloc as follows."
   ]
  },
  {
   "cell_type": "code",
   "execution_count": 24,
   "metadata": {},
   "outputs": [
    {
     "name": "stdout",
     "output_type": "stream",
     "text": [
      "1952\n"
     ]
    }
   ],
   "source": [
    "#first row, third column\n",
    "print(my_file.iloc[0,2])  "
   ]
  },
  {
   "cell_type": "markdown",
   "metadata": {},
   "source": [
    "> Remember the indexing starts from 0."
   ]
  },
  {
   "cell_type": "code",
   "execution_count": 25,
   "metadata": {},
   "outputs": [
    {
     "name": "stdout",
     "output_type": "stream",
     "text": [
      "0       1952\n",
      "1       1957\n",
      "2       1962\n",
      "3       1967\n",
      "4       1972\n",
      "5       1977\n",
      "6       1982\n",
      "7       1987\n",
      "8       1992\n",
      "9       1997\n",
      "10      2002\n",
      "11      2007\n",
      "12      1952\n",
      "13      1957\n",
      "14      1962\n",
      "15      1967\n",
      "16      1972\n",
      "17      1977\n",
      "18      1982\n",
      "19      1987\n",
      "20      1992\n",
      "21      1997\n",
      "22      2002\n",
      "23      2007\n",
      "24      1952\n",
      "25      1957\n",
      "26      1962\n",
      "27      1967\n",
      "28      1972\n",
      "29      1977\n",
      "        ... \n",
      "1674    1982\n",
      "1675    1987\n",
      "1676    1992\n",
      "1677    1997\n",
      "1678    2002\n",
      "1679    2007\n",
      "1680    1952\n",
      "1681    1957\n",
      "1682    1962\n",
      "1683    1967\n",
      "1684    1972\n",
      "1685    1977\n",
      "1686    1982\n",
      "1687    1987\n",
      "1688    1992\n",
      "1689    1997\n",
      "1690    2002\n",
      "1691    2007\n",
      "1692    1952\n",
      "1693    1957\n",
      "1694    1962\n",
      "1695    1967\n",
      "1696    1972\n",
      "1697    1977\n",
      "1698    1982\n",
      "1699    1987\n",
      "1700    1992\n",
      "1701    1997\n",
      "1702    2002\n",
      "1703    2007\n",
      "Name: year, Length: 1704, dtype: int64\n",
      "country      Afghanistan\n",
      "continent           Asia\n",
      "year                1952\n",
      "lifeExp           28.801\n",
      "pop              8425333\n",
      "gdpPercap        779.445\n",
      "Name: 0, dtype: object\n",
      "country      Afghanistan\n",
      "continent           Asia\n",
      "year                1952\n",
      "lifeExp           28.801\n",
      "pop              8425333\n",
      "gdpPercap        779.445\n",
      "Name: 0, dtype: object\n",
      "       country continent  year  lifeExp      pop   gdpPercap\n",
      "0  Afghanistan      Asia  1952   28.801  8425333  779.445314\n",
      "  continent  year\n",
      "0      Asia  1952\n",
      "1      Asia  1957\n",
      "0    28.801\n",
      "1    30.332\n",
      "Name: lifeExp, dtype: float64\n",
      "   lifeExp\n",
      "0   28.801\n",
      "1   30.332\n",
      "  continent  lifeExp\n",
      "0      Asia   28.801\n",
      "2      Asia   31.997\n",
      "3      Asia   34.020\n"
     ]
    }
   ],
   "source": [
    "\n",
    "#all rows, second column\n",
    "print(my_file.iloc[:,2])  \n",
    "\n",
    "#output as series - Series is a one-dimensional labeled array, like R's named list?\n",
    "print(my_file.iloc[0,:])  \n",
    "\n",
    "#same as above; can omit column index if want all columns\n",
    "print(my_file.iloc[0])    \n",
    "\n",
    "print(my_file.iloc[[0]])  #now dataframe is returned\n",
    "\n",
    "#selecting multiple rows and columns:\n",
    "print(my_file.iloc[0:2,1:3])\n",
    "\n",
    "#series again\n",
    "print(my_file.iloc[0:2,3])  \n",
    "\n",
    "#data frame\n",
    "print(my_file.iloc[0:2,[3]])  \n",
    "print(my_file.iloc[[0,2,3],[1,3]])"
   ]
  },
  {
   "cell_type": "markdown",
   "metadata": {},
   "source": [
    "### Selecting data by label(.loc)\n",
    "\n",
    "The second method is subsetting dataframes using **label based indexing**. Now, the indexing can be set to a specific column or if we dont set the set, the the row numbers are used as labels by default."
   ]
  },
  {
   "cell_type": "code",
   "execution_count": 26,
   "metadata": {},
   "outputs": [
    {
     "name": "stdout",
     "output_type": "stream",
     "text": [
      "       country continent  year  lifeExp       pop   gdpPercap\n",
      "0  Afghanistan      Asia  1952   28.801   8425333  779.445314\n",
      "1  Afghanistan      Asia  1957   30.332   9240934  820.853030\n",
      "2  Afghanistan      Asia  1962   31.997  10267083  853.100710\n",
      "3  Afghanistan      Asia  1967   34.020  11537966  836.197138\n",
      "4  Afghanistan      Asia  1972   36.088  13079460  739.981106\n",
      "      year\n",
      "0     1952\n",
      "1     1957\n",
      "2     1962\n",
      "3     1967\n",
      "4     1972\n",
      "5     1977\n",
      "6     1982\n",
      "7     1987\n",
      "8     1992\n",
      "9     1997\n",
      "10    2002\n",
      "11    2007\n",
      "12    1952\n",
      "13    1957\n",
      "14    1962\n",
      "15    1967\n",
      "16    1972\n",
      "17    1977\n",
      "18    1982\n",
      "19    1987\n",
      "20    1992\n",
      "21    1997\n",
      "22    2002\n",
      "23    2007\n",
      "24    1952\n",
      "25    1957\n",
      "26    1962\n",
      "27    1967\n",
      "28    1972\n",
      "29    1977\n",
      "...    ...\n",
      "1674  1982\n",
      "1675  1987\n",
      "1676  1992\n",
      "1677  1997\n",
      "1678  2002\n",
      "1679  2007\n",
      "1680  1952\n",
      "1681  1957\n",
      "1682  1962\n",
      "1683  1967\n",
      "1684  1972\n",
      "1685  1977\n",
      "1686  1982\n",
      "1687  1987\n",
      "1688  1992\n",
      "1689  1997\n",
      "1690  2002\n",
      "1691  2007\n",
      "1692  1952\n",
      "1693  1957\n",
      "1694  1962\n",
      "1695  1967\n",
      "1696  1972\n",
      "1697  1977\n",
      "1698  1982\n",
      "1699  1987\n",
      "1700  1992\n",
      "1701  1997\n",
      "1702  2002\n",
      "1703  2007\n",
      "\n",
      "[1704 rows x 1 columns]\n",
      "      year       pop\n",
      "0     1952   8425333\n",
      "1     1957   9240934\n",
      "2     1962  10267083\n",
      "3     1967  11537966\n",
      "4     1972  13079460\n",
      "5     1977  14880372\n",
      "6     1982  12881816\n",
      "7     1987  13867957\n",
      "8     1992  16317921\n",
      "9     1997  22227415\n",
      "10    2002  25268405\n",
      "11    2007  31889923\n",
      "12    1952   1282697\n",
      "13    1957   1476505\n",
      "14    1962   1728137\n",
      "15    1967   1984060\n",
      "16    1972   2263554\n",
      "17    1977   2509048\n",
      "18    1982   2780097\n",
      "19    1987   3075321\n",
      "20    1992   3326498\n",
      "21    1997   3428038\n",
      "22    2002   3508512\n",
      "23    2007   3600523\n",
      "24    1952   9279525\n",
      "25    1957  10270856\n",
      "26    1962  11000948\n",
      "27    1967  12760499\n",
      "28    1972  14760787\n",
      "29    1977  17152804\n",
      "...    ...       ...\n",
      "1674  1982   9657618\n",
      "1675  1987  11219340\n",
      "1676  1992  13367997\n",
      "1677  1997  15826497\n",
      "1678  2002  18701257\n",
      "1679  2007  22211743\n",
      "1680  1952   2672000\n",
      "1681  1957   3016000\n",
      "1682  1962   3421000\n",
      "1683  1967   3900000\n",
      "1684  1972   4506497\n",
      "1685  1977   5216550\n",
      "1686  1982   6100407\n",
      "1687  1987   7272406\n",
      "1688  1992   8381163\n",
      "1689  1997   9417789\n",
      "1690  2002  10595811\n",
      "1691  2007  11746035\n",
      "1692  1952   3080907\n",
      "1693  1957   3646340\n",
      "1694  1962   4277736\n",
      "1695  1967   4995432\n",
      "1696  1972   5861135\n",
      "1697  1977   6642107\n",
      "1698  1982   7636524\n",
      "1699  1987   9216418\n",
      "1700  1992  10704340\n",
      "1701  1997  11404948\n",
      "1702  2002  11926563\n",
      "1703  2007  12311143\n",
      "\n",
      "[1704 rows x 2 columns]\n",
      "   year\n",
      "0  1952\n",
      "1  1957\n",
      "2  1962\n",
      "0    1952\n",
      "1    1957\n",
      "2    1962\n",
      "Name: year, dtype: int64\n"
     ]
    }
   ],
   "source": [
    "#subset by label:\n",
    "#data.loc[<row selection>, <column selection>]\n",
    "#df.set_index(\"last_name\", inplace=True)  #can set index to unique column, or use row numbers as labels\n",
    "\n",
    "print(my_file.head())\n",
    "print(my_file.loc[:, ['year']])\n",
    "print(my_file.loc[:, ['year','pop']])\n",
    "\n",
    "#note that 0:2 is interpreted as  labels of the index. This use is not an integer position along the index\n",
    "print(my_file.loc[0:2,['year']])  \n",
    "\n",
    "#back to series\n",
    "print(my_file.loc[0:2,'year'])"
   ]
  },
  {
   "cell_type": "markdown",
   "metadata": {},
   "source": [
    "### Selecting data by a conditional statment/logical statements\n",
    "\n",
    "The third method is selecting data by using conditional statements. Personally, this is the most useful method among the three. The syntax is similar to the other two methods. It is as follows:"
   ]
  },
  {
   "cell_type": "code",
   "execution_count": 27,
   "metadata": {},
   "outputs": [
    {
     "name": "stdout",
     "output_type": "stream",
     "text": [
      "       country continent  year  lifeExp       pop   gdpPercap\n",
      "0  Afghanistan      Asia  1952   28.801   8425333  779.445314\n",
      "1  Afghanistan      Asia  1957   30.332   9240934  820.853030\n",
      "2  Afghanistan      Asia  1962   31.997  10267083  853.100710\n",
      "3  Afghanistan      Asia  1967   34.020  11537966  836.197138\n",
      "4  Afghanistan      Asia  1972   36.088  13079460  739.981106\n",
      "        country continent  year  lifeExp       pop   gdpPercap\n",
      "0   Afghanistan      Asia  1952   28.801   8425333  779.445314\n",
      "1   Afghanistan      Asia  1957   30.332   9240934  820.853030\n",
      "2   Afghanistan      Asia  1962   31.997  10267083  853.100710\n",
      "3   Afghanistan      Asia  1967   34.020  11537966  836.197138\n",
      "4   Afghanistan      Asia  1972   36.088  13079460  739.981106\n",
      "5   Afghanistan      Asia  1977   38.438  14880372  786.113360\n",
      "6   Afghanistan      Asia  1982   39.854  12881816  978.011439\n",
      "7   Afghanistan      Asia  1987   40.822  13867957  852.395945\n",
      "8   Afghanistan      Asia  1992   41.674  16317921  649.341395\n",
      "9   Afghanistan      Asia  1997   41.763  22227415  635.341351\n",
      "10  Afghanistan      Asia  2002   42.129  25268405  726.734055\n",
      "11  Afghanistan      Asia  2007   43.828  31889923  974.580338\n",
      "0      True\n",
      "1      True\n",
      "2      True\n",
      "3      True\n",
      "4      True\n",
      "5      True\n",
      "6      True\n",
      "7      True\n",
      "8      True\n",
      "9      True\n",
      "10     True\n",
      "11     True\n",
      "12    False\n",
      "Name: country, dtype: bool\n",
      "    year       pop\n",
      "0   1952   8425333\n",
      "1   1957   9240934\n",
      "2   1962  10267083\n",
      "3   1967  11537966\n",
      "4   1972  13079460\n",
      "5   1977  14880372\n",
      "6   1982  12881816\n",
      "7   1987  13867957\n",
      "8   1992  16317921\n",
      "9   1997  22227415\n",
      "10  2002  25268405\n",
      "11  2007  31889923\n"
     ]
    }
   ],
   "source": [
    "#Logical selection\n",
    "#data.loc[<row selection>, <column selection>] where row selection is based on logical Pandas series\n",
    "\n",
    "#With logical selection, you pass an array or Series of True/False values to the .loc indexer to select the rows where your Series has True values.\n",
    "print(my_file.head())\n",
    "\n",
    "#all columns where country is Afghanistan\n",
    "print(my_file.loc[my_file['country']==\"Afghanistan\"]) #all columns where country is Afghanistan\n",
    "\n",
    "#logical Pandas series with TRUE values for rows where Afghanistan is present\n",
    "ls=my_file['country']==\"Afghanistan\"  \n",
    "print(ls.head(13))\n",
    "\n",
    "#specify columns\n",
    "print(my_file.loc[my_file['country']==\"Afghanistan\",['year', 'pop']])"
   ]
  },
  {
   "cell_type": "markdown",
   "metadata": {},
   "source": [
    "**Challenge 3.1** Play with gapminder dataset:\n",
    "\n",
    "TASK: Answer the following questions about `myData` object\n",
    "\n",
    "1. Can you extract 3rd and 5th column of the dataset?\n",
    "2. Can you extract the list of countries in this dataset?  \n",
    "\n",
    "_Hint: use unique()._\n",
    "3. Can you get a part of this dataset that includes information about Sweden?\n",
    "4. Can you extract all countries for which life expectancy is below 70?\n",
    "5. Can you make a new column that contains population in units of millions of people?\n",
    "\n",
    "**Challenge 3.1** Answers\n",
    "\n",
    "1. my_file.iloc[:,[2,4]]\n",
    "2. my_file.country.unique()\n",
    "3. my_file[my_file.country == \"Sweden\" ]\n",
    "4. my_file[my_file.lifeExp < 70]\n",
    "5. my_file[\"PopM\"] = pd.Series((my_file.iloc[:,4])/(10^6), index = my_file.index)"
   ]
  },
  {
   "cell_type": "markdown",
   "metadata": {},
   "source": [
    "## 4.Writing Simple Scripts in Python\n",
    "\n",
    "An Python script (or any other script) is a series of commands that are executed in the order they are written. The commands that we have executed one by one in python can be written to a text file and then executed all at once by running the file (which is now an pyhton script). Python scripts usually have .py extensions. Here is an example of a simple python script that will plot life expectancy over years for Canada."
   ]
  },
  {
   "cell_type": "code",
   "execution_count": 29,
   "metadata": {},
   "outputs": [
    {
     "data": {
      "image/png": "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\n",
      "text/plain": [
       "<Figure size 576x432 with 1 Axes>"
      ]
     },
     "metadata": {
      "needs_background": "light"
     },
     "output_type": "display_data"
    }
   ],
   "source": [
    "##This is  PlotLifeExp.py script\n",
    "\n",
    "import pandas as pd\n",
    "import matplotlib.pyplot as plt\n",
    "\n",
    "#read data into python\n",
    "my_file = pd.read_csv(\"gapminder.txt\", delimiter = \"\\t\")\n",
    "\n",
    "#my_file is a dataframe - check\n",
    "\n",
    "#select information about Canada\n",
    "Canada = my_file.loc[my_file['country'] == \"Canada\"]\n",
    "\n",
    "#plot lifeExp\n",
    "Canada.plot.line(x='year',y='lifeExp',label = \"Life Expectancy\",figsize=(8, 6))\n",
    "plt.suptitle('Life Expectancy in Canada Over the years', fontsize = 20)\n",
    "plt.xlabel('Year', fontsize = 16)\n",
    "plt.ylabel('Life Expectancy', fontsize = 16)\n",
    "plt.show() "
   ]
  },
  {
   "cell_type": "markdown",
   "metadata": {},
   "source": [
    "You might want to save your plot as .png image. This requires only slight modification of our script."
   ]
  },
  {
   "cell_type": "code",
   "execution_count": 30,
   "metadata": {},
   "outputs": [
    {
     "data": {
      "image/png": "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\n",
      "text/plain": [
       "<Figure size 576x432 with 1 Axes>"
      ]
     },
     "metadata": {
      "needs_background": "light"
     },
     "output_type": "display_data"
    }
   ],
   "source": [
    "##This is  PlotLifeExp.py script\n",
    "\n",
    "import pandas as pd\n",
    "import matplotlib.pyplot as plt      \n",
    "\n",
    "#read data into python\n",
    "my_file = pd.read_csv(\"gapminder.txt\", delimiter = \"\\t\")\n",
    "\n",
    "#my_file is a dataframe - check\n",
    "\n",
    "#select information about Canada\n",
    "Canada = my_file.loc[my_file['country'] == \"Canada\"]\n",
    "\n",
    "#plot lifeExp\n",
    "Canada.plot.line(x='year',y='lifeExp',label = \"Life Expectancy\",figsize=(8, 6))\n",
    "plt.suptitle('Life Expectancy in Canada Over the years', fontsize = 20)\n",
    "plt.xlabel('Year', fontsize = 16)\n",
    "plt.ylabel('Life Expectancy', fontsize = 16)\n",
    "plt.savefig(\"PlotLifeExp.png\")"
   ]
  },
  {
   "cell_type": "markdown",
   "metadata": {},
   "source": [
    "**Challenge 4.1**  Write your own python script\n",
    "Write a script to calculate mean gdpPerCap for African and European countries.\n",
    "Try to make a barplot to display your results.\n",
    "\n",
    "You might need to read help for 'mean' and 'plot' functions.  \n",
    ".mean()  \n",
    "plt.bar()"
   ]
  },
  {
   "cell_type": "markdown",
   "metadata": {},
   "source": [
    "**Challenge 4.1** : _Answers_"
   ]
  },
  {
   "cell_type": "code",
   "execution_count": 31,
   "metadata": {},
   "outputs": [
    {
     "data": {
      "image/png": "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\n",
      "text/plain": [
       "<Figure size 720x576 with 1 Axes>"
      ]
     },
     "metadata": {
      "needs_background": "light"
     },
     "output_type": "display_data"
    }
   ],
   "source": [
    "##This is  MeanGdpPlot.py script\n",
    "\n",
    "#Import pandas and pylab\n",
    "import pandas as pd\n",
    "import matplotlib.pyplot as plt      \n",
    "import pylab\n",
    "\n",
    "#read data into python\n",
    "my_file = pd.read_csv(\"gapminder.txt\", sep = \"\\t\")\n",
    "\n",
    "#select information about Africa\n",
    "Africa = my_file[my_file.continent == \"Africa\"]\n",
    "\n",
    "#calculate the mean\n",
    "Africa_Mean = Africa.iloc[:,5].mean()\n",
    "\n",
    "#Do the same for Europe\n",
    "Europe = my_file[my_file.continent == \"Europe\"]\n",
    "Europe_Mean = Europe.iloc[:,5].mean()\n",
    "\n",
    "# Create a List to store the values\n",
    "continents = [\"Africa\",\"Europe\"]\n",
    "mean_gdp = [Africa_Mean, Europe_Mean]\n",
    "\n",
    "# Set figure width to 10 and height to 8\n",
    "fig_size = plt.rcParams[\"figure.figsize\"]\n",
    "fig_size[0] = 10\n",
    "fig_size[1] = 8\n",
    "plt.rcParams[\"figure.figsize\"] = fig_size\n",
    "\n",
    "#Plot the graph with Y axis label and Title\n",
    "plt.bar(continents,mean_gdp,align='center')\n",
    "plt.ylabel('Mean GDP/Capita')\n",
    "plt.title('Mean GDP per Capita in Africa Vs Europe')\n",
    "plt.savefig(\"Mean_GDP_Plot.png\")"
   ]
  },
  {
   "cell_type": "markdown",
   "metadata": {},
   "source": [
    "# Summary\n",
    "\n",
    "✅ This lesson introduced you to main ideas of programming: variables, functions, data structures and scripts. Now you can write your own simple programs in Python and begin understanding python code written by others.⌛\n",
    "\n",
    "🔜 Next, we have Reports and Visualization. Using Python Reports our codes,analysis,results and interpretation of the results are made possible. They are created in Markdown format which makes it easier to use and publish.  \n",
    "\n",
    "🔜 Further, Python has numerous packages which helps us to create different kinds plots from various analyses. We had a sneak peek using line plot 📈 and bar plot 📊 . We will learn more about plots in Visualization later in the day.\n",
    "\n",
    "This is Balan signing off 👋 for Python Basics. Happy Learning 👍👍👍  \n",
    "\n",
    "💥✨🥂"
   ]
  }
 ],
 "metadata": {
  "kernelspec": {
   "display_name": "Python 3",
   "language": "python",
   "name": "python3"
  },
  "language_info": {
   "codemirror_mode": {
    "name": "ipython",
    "version": 3
   },
   "file_extension": ".py",
   "mimetype": "text/x-python",
   "name": "python",
   "nbconvert_exporter": "python",
   "pygments_lexer": "ipython3",
   "version": "3.7.2"
  }
 },
 "nbformat": 4,
 "nbformat_minor": 2
}
