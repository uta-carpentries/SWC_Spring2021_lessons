{
 "cells": [
  {
   "cell_type": "markdown",
   "metadata": {},
   "source": [
    "# Comparison of GDP per capita between countries in Africa and Americas\n",
    "\n",
    "\n",
    "Adapted from a [lesson](https://github.com/AnnaWilliford/2017-02-04-UTA/blob/gh-pages/workshop/02_day/02_pm/demographic_analysis_report.ipynb) by Daren Card, November 2017\n",
    "\n",
    "***"
   ]
  },
  {
   "cell_type": "markdown",
   "metadata": {},
   "source": [
    "## Introduction"
   ]
  },
  {
   "cell_type": "markdown",
   "metadata": {},
   "source": [
    "Gross Domestic Product (GDP) per capita is a country's income per person. To compare GDP per capita between countries in Africa and Americas, I used [gapminder dataset](https://raw.githubusercontent.com/utacarpentries/2019-02-23-UTA/gh-pages/data/gapminder.txt )"
   ]
  },
  {
   "cell_type": "markdown",
   "metadata": {},
   "source": [
    "## Data analysis"
   ]
  },
  {
   "cell_type": "markdown",
   "metadata": {},
   "source": [
    "I downloaded dataset `gapminder.txt` to my working directory, `Reports`. I used Linux tools and Python to work with gapminder dataset. Linux command-line tools are very useful for simple manipulation of text files while Python is a great tool for data visualization. \n"
   ]
  },
  {
   "cell_type": "markdown",
   "metadata": {},
   "source": [
    "### Data overview "
   ]
  },
  {
   "cell_type": "markdown",
   "metadata": {},
   "source": [
    "My first step in the analysis of gapminder dataset is to know exactly what kind of data is available in the dataset.\n",
    "Here are the Linux commands I used to examine my dataset."
   ]
  },
  {
   "cell_type": "code",
   "execution_count": 137,
   "metadata": {},
   "outputs": [
    {
     "name": "stdout",
     "output_type": "stream",
     "text": [
      "Overwriting checkData.sh\n"
     ]
    }
   ],
   "source": [
    "%%writefile checkData.sh \n",
    "# `%%writefile`  writes contents of the cell to checkData.sh file\n",
    "# `%pycat` checkData.sh will display contents of the saved checkData.sh file in a pop-up window\n",
    "\n",
    "\n",
    "#This is \"checkData.sh\"\n",
    "\n",
    "echo \"Top 5:\"\n",
    "head -n5 gapminder.txt\n",
    "\n",
    "echo -e \"\\nBottom 5:\"\n",
    "tail -n5 gapminder.txt\n",
    "\n",
    "echo \"Tab-delimited?\"\n",
    "head -n3 gapminder.txt | cat -t\n",
    "\n",
    "echo \"How many countries are in my data?\"\n",
    "cut -f1 gapminder.txt| grep -v 'country'| sort | uniq |wc -l\n",
    "\n",
    "echo \"For what years do I have data?\"\n",
    "cut -f3 gapminder.txt| grep -v 'year'|sort | uniq\n",
    "\n",
    "echo \"Does every country have data for the same number of years?\"\n",
    "cut -f3 gapminder.txt|grep -v 'year' |sort |uniq -c \n"
   ]
  },
  {
   "cell_type": "code",
   "execution_count": 138,
   "metadata": {},
   "outputs": [
    {
     "name": "stdout",
     "output_type": "stream",
     "text": [
      "Top 5:\n",
      "country\tcontinent\tyear\tlifeExp\tpop\tgdpPercap\n",
      "Afghanistan\tAsia\t1952\t28.801\t8425333\t779.4453145\n",
      "Afghanistan\tAsia\t1957\t30.332\t9240934\t820.8530296\n",
      "Afghanistan\tAsia\t1962\t31.997\t10267083\t853.10071\n",
      "Afghanistan\tAsia\t1967\t34.02\t11537966\t836.1971382\n",
      "\n",
      "Bottom 5:\n",
      "Zimbabwe\tAfrica\t1987\t62.351\t9216418\t706.1573059\n",
      "Zimbabwe\tAfrica\t1992\t60.377\t10704340\t693.4207856\n",
      "Zimbabwe\tAfrica\t1997\t46.809\t11404948\t792.4499603\n",
      "Zimbabwe\tAfrica\t2002\t39.989\t11926563\t672.0386227\n",
      "Zimbabwe\tAfrica\t2007\t43.487\t12311143\t469.7092981\n",
      "Tab-delimited?\n",
      "country^Icontinent^Iyear^IlifeExp^Ipop^IgdpPercap\n",
      "Afghanistan^IAsia^I1952^I28.801^I8425333^I779.4453145\n",
      "Afghanistan^IAsia^I1957^I30.332^I9240934^I820.8530296\n",
      "How many countries are in my data?\n",
      "     142\n",
      "For what years do I have data?\n",
      "1952\n",
      "1957\n",
      "1962\n",
      "1967\n",
      "1972\n",
      "1977\n",
      "1982\n",
      "1987\n",
      "1992\n",
      "1997\n",
      "2002\n",
      "2007\n",
      "Does every country has data for the same number of years?\n",
      " 142 1952\n",
      " 142 1957\n",
      " 142 1962\n",
      " 142 1967\n",
      " 142 1972\n",
      " 142 1977\n",
      " 142 1982\n",
      " 142 1987\n",
      " 142 1992\n",
      " 142 1997\n",
      " 142 2002\n",
      " 142 2007\n"
     ]
    }
   ],
   "source": [
    "%%bash\n",
    "bash ./checkData.sh"
   ]
  },
  {
   "cell_type": "markdown",
   "metadata": {},
   "source": [
    "**Summary**  \n",
    "The dataset contains information about life expectancy, population size and GDP per capita for 142 countries for 12 non-consecutive years ranging from 1952 to 2007."
   ]
  },
  {
   "cell_type": "markdown",
   "metadata": {},
   "source": [
    "### Analysis of GDP per capita "
   ]
  },
  {
   "cell_type": "markdown",
   "metadata": {},
   "source": [
    "My dataset is in a proper format and is ready for analysis. I used Python's [Pandas](https://pandas.pydata.org/) library to work with the dataset as a data frame object. To make plots, I use [plotnine](http://plotnine.readthedocs.io/en/stable/index.html) library that implements [ggplot2](https://ggplot2.tidyverse.org/) package from R.  \n",
    "\n",
    "Here is the complete script that performs the analysis. The analysis workflow is explained below."
   ]
  },
  {
   "cell_type": "code",
   "execution_count": 194,
   "metadata": {},
   "outputs": [
    {
     "data": {
      "image/png": "[encoded data removed]",
      "text/plain": [
       "<Figure size 640x480 with 1 Axes>"
      ]
     },
     "metadata": {},
     "output_type": "display_data"
    },
    {
     "name": "stdout",
     "output_type": "stream",
     "text": [
      "<ggplot: (-9223372029301520910)>\n"
     ]
    },
    {
     "name": "stderr",
     "output_type": "stream",
     "text": [
      "/anaconda3/lib/python3.7/site-packages/plotnine/ggplot.py:706: UserWarning: Saving 5 x 4 in image.\n",
      "  from_inches(height, units), units))\n",
      "/anaconda3/lib/python3.7/site-packages/plotnine/ggplot.py:707: UserWarning: Filename: GDP_Africa_Americas.png\n",
      "  warn('Filename: {}'.format(filename))\n"
     ]
    }
   ],
   "source": [
    "#This is GDP_Africa_Americas.py\n",
    "\"\"\" This scripts uses gapminer.txt to compare GDP per capita between contries in Africa and Americas \"\"\"\n",
    "\n",
    "######### import statements ############\n",
    "from plotnine import *\n",
    "import pandas as pd\n",
    "\n",
    "\n",
    "######## function definitions ##########\n",
    "\n",
    "def SelectDataByCont(df,continents_list):\n",
    "    \"\"\"select data for continents given in the 'continents_list' from a dataframe 'df'\"\"\"    \n",
    "    dataSubset=df.loc[df['continent'].isin(continents_list),:]\n",
    "    return dataSubset\n",
    "\n",
    "def GetMeansByCategory(df,groupby_list):\n",
    "    \"\"\"calculate the means of data from 'df' grouped by categories given in 'groupby_list' \"\"\"   \n",
    "    dataMeans=df.groupby(groupby_list, as_index=False).mean()\n",
    "    return dataMeans\n",
    "\n",
    "def MakeBarPlot(df):\n",
    "    \"\"\" make a barplot with data from 'df' \"\"\"\n",
    "    p= ggplot(df, aes(x = 'continent', y = 'gdpPercap', fill='continent')) +\\\n",
    "        geom_bar(stat='stat_identity', color=\"grey\", show_legend=False) +\\\n",
    "        labs(\n",
    "            x='Continent', \n",
    "            y='GDP per capita',\n",
    "            title='GDP per capita: a comparison'\n",
    "            )  \n",
    "    return p \n",
    "\n",
    "\n",
    "######## load data ##########\n",
    "\n",
    "#read data into Python\n",
    "gapminder=pd.read_table(\"gapminder.txt\")\n",
    "\n",
    "\n",
    "######## data analysis ##########\n",
    "#### Step1: Select data for Asia and Americas\n",
    "\n",
    "#make a list of continents to select\n",
    "ToSelect=['Africa','Americas']\n",
    "\n",
    "#call SelectDataByCont(df,continents_list) function\n",
    "myNewData=SelectDataByCont(gapminder,ToSelect)\n",
    "\n",
    "\n",
    "#### Step2: Create dataframe with gdpPercap values averaged over all years for each continent\n",
    "\n",
    "#define grouping variable as continent\n",
    "groupBy=['continent']\n",
    "\n",
    "#call GetMeansByCategory(df,groupby_list)\n",
    "myNewData_meanPerCont=GetMeansByCategory(myNewData,groupBy)\n",
    "\n",
    "\n",
    "#### Step3: Create a barplot to visualize avergae GDP per capita for Asia and Americas\n",
    "\n",
    "#call MakeBarPlot(df)\n",
    "p=MakeBarPlot(myNewData_meanPerCont)\n",
    "\n",
    "\n",
    "#### Step4: Overlay barplot with gdpPercap values averaged over all years for every country.\n",
    "\n",
    "## Step4.1: Create a new dataset with  gdpPercap values averaged across all years for every country and continent\n",
    "#get averages across years for every country, keeping continents in the dataframe\n",
    "#define grouping categories\n",
    "groupBy_2=['continent','country']\n",
    "\n",
    "#call GetMeansByCategory(df,groupby_list)\n",
    "myNewData_meanPerCountry=GetMeansByCategory(myNewData,groupBy_2)\n",
    "\n",
    "\n",
    "## Step4.2: Add averaged gdpPercap values per country to barplot\n",
    "#p=MakeBarPlot(myNewData_meanPerCont) from Step 3\n",
    "p1=p+geom_point(myNewData_meanPerCountry,aes(x = 'continent',  y = 'gdpPercap'),\n",
    "                fill='black',\n",
    "                position=position_jitter(width=0.02), \n",
    "                alpha=0.5)\n",
    "print(p1)\n",
    "\n",
    "\n",
    "#### Step5: Save plot to file\n",
    "p1.save(filename=\"GDP_Africa_Americas.png\", height=4, width=5, units = 'in')"
   ]
  },
  {
   "cell_type": "markdown",
   "metadata": {},
   "source": [
    "### Analysis workflow"
   ]
  },
  {
   "cell_type": "markdown",
   "metadata": {},
   "source": [
    "To compare GDP per capita between Africa and Americas, I implemented the following steps in Python.\n",
    "\n",
    "0. Load gapminer.txt into Python as data frame\n",
    "2. Select rows with information about countries located in Africa or Americas\n",
    "2. Create a data frame with mean values of GDP per capita for Africa and Americas\n",
    "3. Create a barplot to visualize average GDP per capita\n",
    "4. Overlay barplot with GDP per capita values averaged over all years for every country. This is done to visualize the variation in GDP per capita among different countries on each continent\n",
    "5. Save plot to file"
   ]
  },
  {
   "cell_type": "markdown",
   "metadata": {},
   "source": [
    "#### To work through steps outline above, import libraries and load the dataset:"
   ]
  },
  {
   "cell_type": "code",
   "execution_count": 182,
   "metadata": {},
   "outputs": [],
   "source": [
    "from plotnine import *\n",
    "import pandas as pd\n",
    "\n",
    "gapminder=pd.read_table(\"gapminder.txt\")"
   ]
  },
  {
   "cell_type": "markdown",
   "metadata": {},
   "source": [
    "#### Function definitions:"
   ]
  },
  {
   "cell_type": "markdown",
   "metadata": {},
   "source": [
    "To implement the steps above, I define 3 functions:  \n",
    "#### Function 1:"
   ]
  },
  {
   "cell_type": "code",
   "execution_count": 141,
   "metadata": {},
   "outputs": [],
   "source": [
    "def SelectDataByCont(df,continents_list):\n",
    "    \"\"\"select data for continents given in the 'continents_list' from a dataframe 'df'\"\"\"    \n",
    "    dataSubset=df.loc[df['continent'].isin(continents_list),:]\n",
    "    return dataSubset"
   ]
  },
  {
   "cell_type": "markdown",
   "metadata": {},
   "source": [
    "The same funciton can be written like this:"
   ]
  },
  {
   "cell_type": "code",
   "execution_count": 183,
   "metadata": {},
   "outputs": [],
   "source": [
    "def SelectDataByCont(df,continents_list):\n",
    "    \"\"\"select data for continents given in the 'continents_list' from a dataframe 'df'\"\"\"    \n",
    "    dataSubset=df[df.continent.isin(continents_list)]\n",
    "    return dataSubset"
   ]
  },
  {
   "cell_type": "markdown",
   "metadata": {},
   "source": [
    "**About this function**:  \n",
    "\n",
    "Select rows where 'continent' is the continent name listed in the `continents_list`  \n",
    "`isin` method allows to subset the data for any number of continents given in the list.  \n",
    "\n",
    "In **Step1**, we create `ToSelect` list to include the continents we want. I then pass this list to `SelectDataByCont` function. The output of `SelectByCont` is stored in `myNewData` data frame. "
   ]
  },
  {
   "cell_type": "code",
   "execution_count": 184,
   "metadata": {},
   "outputs": [
    {
     "data": {
      "text/plain": [
       "array(['Africa', 'Americas'], dtype=object)"
      ]
     },
     "execution_count": 184,
     "metadata": {},
     "output_type": "execute_result"
    }
   ],
   "source": [
    "ToSelect=['Africa', 'Americas']\n",
    "myNewData=SelectDataByCont(gapminder, ToSelect)\n",
    "myNewData['continent'].unique()"
   ]
  },
  {
   "cell_type": "markdown",
   "metadata": {},
   "source": [
    "Why to write a function instead of just using `isin` method?  \n",
    "Because if I want data for a new set of continents somewhere during my analysis, \n",
    "I can just reuse the function and NOT write complicated expression multiple times.  \n",
    "\n",
    "#### Function 2:"
   ]
  },
  {
   "cell_type": "code",
   "execution_count": 185,
   "metadata": {},
   "outputs": [],
   "source": [
    "def GetMeansByCategory(df,groupby_list):\n",
    "    \"\"\"calculate the means of data from 'df' grouped by categories given in 'groupby_list' \"\"\"   \n",
    "    dataMeans=df.groupby(groupby_list, as_index=False).mean()\n",
    "    return dataMeans "
   ]
  },
  {
   "cell_type": "markdown",
   "metadata": {},
   "source": [
    "**About this function:**  \n",
    "    \n",
    "`.groupby` method is a very useful function that allows us to split the dataset by category of interest\n",
    "and then apply a function to each category.   \n",
    "In **Step2**, we split our dataset by 'continent' and apply `mean` to get averages for every continent:\n"
   ]
  },
  {
   "cell_type": "code",
   "execution_count": 188,
   "metadata": {},
   "outputs": [
    {
     "data": {
      "text/html": [
       "<div>\n",
       "<style scoped>\n",
       "    .dataframe tbody tr th:only-of-type {\n",
       "        vertical-align: middle;\n",
       "    }\n",
       "\n",
       "    .dataframe tbody tr th {\n",
       "        vertical-align: top;\n",
       "    }\n",
       "\n",
       "    .dataframe thead th {\n",
       "        text-align: right;\n",
       "    }\n",
       "</style>\n",
       "<table border=\"1\" class=\"dataframe\">\n",
       "  <thead>\n",
       "    <tr style=\"text-align: right;\">\n",
       "      <th></th>\n",
       "      <th>continent</th>\n",
       "      <th>year</th>\n",
       "      <th>lifeExp</th>\n",
       "      <th>pop</th>\n",
       "      <th>gdpPercap</th>\n",
       "    </tr>\n",
       "  </thead>\n",
       "  <tbody>\n",
       "    <tr>\n",
       "      <th>0</th>\n",
       "      <td>Africa</td>\n",
       "      <td>1979.5</td>\n",
       "      <td>48.865330</td>\n",
       "      <td>9.916003e+06</td>\n",
       "      <td>2193.754578</td>\n",
       "    </tr>\n",
       "    <tr>\n",
       "      <th>1</th>\n",
       "      <td>Americas</td>\n",
       "      <td>1979.5</td>\n",
       "      <td>64.658737</td>\n",
       "      <td>2.450479e+07</td>\n",
       "      <td>7136.110356</td>\n",
       "    </tr>\n",
       "  </tbody>\n",
       "</table>\n",
       "</div>"
      ],
      "text/plain": [
       "  continent    year    lifeExp           pop    gdpPercap\n",
       "0    Africa  1979.5  48.865330  9.916003e+06  2193.754578\n",
       "1  Americas  1979.5  64.658737  2.450479e+07  7136.110356"
      ]
     },
     "execution_count": 188,
     "metadata": {},
     "output_type": "execute_result"
    }
   ],
   "source": [
    "#define grouping variable as continent\n",
    "groupBy=['continent']\n",
    "\n",
    "#call GetMeansByCategory(df,groupby_list)\n",
    "myNewData_meanPerCont=GetMeansByCategory(myNewData,groupBy)\n",
    "myNewData_meanPerCont"
   ]
  },
  {
   "cell_type": "markdown",
   "metadata": {},
   "source": [
    "We can apply different functions to each group, for example:  "
   ]
  },
  {
   "cell_type": "code",
   "execution_count": 146,
   "metadata": {},
   "outputs": [],
   "source": [
    "groupedData_means=myNewData.groupby('continent', as_index=False).mean()\n",
    "groupedData_sums=myNewData.groupby('continent', as_index=False).sum()\n",
    "groupedData_count=myNewData.groupby('continent', as_index=False).count()\n"
   ]
  },
  {
   "cell_type": "markdown",
   "metadata": {},
   "source": [
    "#### Function 3:"
   ]
  },
  {
   "cell_type": "code",
   "execution_count": 186,
   "metadata": {},
   "outputs": [],
   "source": [
    "def MakeBarPlot(df):\n",
    "    \"\"\" make a barplot with data from 'df' \"\"\"\n",
    "    p= ggplot(df, aes(x = 'continent', y = 'gdpPercap', fill='continent')) +\\\n",
    "        geom_bar(stat='stat_identity', color=\"grey\", show_legend=False) +\\\n",
    "        labs(\n",
    "            x='Continent', \n",
    "            y='GDP per capita',\n",
    "            title='GDP per capita: a comparison'\n",
    "            )  \n",
    "    return p "
   ]
  },
  {
   "cell_type": "markdown",
   "metadata": {},
   "source": [
    "**About this function**  \n",
    "This function makes a barplot. You can think of it as a function to make a base plot to which other layers can be added.  \n",
    "In **Step3**, we plot means of gdpPercap for 'Africa' and 'Americas' using `myNewData_meanPerCont` data frame:"
   ]
  },
  {
   "cell_type": "code",
   "execution_count": 189,
   "metadata": {},
   "outputs": [
    {
     "data": {
      "image/png": "[encoded data removed]",
      "text/plain": [
       "<Figure size 640x480 with 1 Axes>"
      ]
     },
     "metadata": {},
     "output_type": "display_data"
    },
    {
     "name": "stdout",
     "output_type": "stream",
     "text": [
      "<ggplot: (-9223372029301520910)>\n"
     ]
    }
   ],
   "source": [
    "p=MakeBarPlot(myNewData_meanPerCont)\n",
    "print(p)"
   ]
  },
  {
   "cell_type": "markdown",
   "metadata": {},
   "source": [
    "In **Step4**, we first calculate gdpPercap means for every country over all years using\n",
    "`GetMeansByCategory()` function we used in **Step2**  \n",
    "To keep 'continent' column in the dataset, we group by both, 'continent' and 'country'"
   ]
  },
  {
   "cell_type": "code",
   "execution_count": 191,
   "metadata": {},
   "outputs": [
    {
     "data": {
      "text/html": [
       "<div>\n",
       "<style scoped>\n",
       "    .dataframe tbody tr th:only-of-type {\n",
       "        vertical-align: middle;\n",
       "    }\n",
       "\n",
       "    .dataframe tbody tr th {\n",
       "        vertical-align: top;\n",
       "    }\n",
       "\n",
       "    .dataframe thead th {\n",
       "        text-align: right;\n",
       "    }\n",
       "</style>\n",
       "<table border=\"1\" class=\"dataframe\">\n",
       "  <thead>\n",
       "    <tr style=\"text-align: right;\">\n",
       "      <th></th>\n",
       "      <th>continent</th>\n",
       "      <th>country</th>\n",
       "      <th>year</th>\n",
       "      <th>lifeExp</th>\n",
       "      <th>pop</th>\n",
       "      <th>gdpPercap</th>\n",
       "    </tr>\n",
       "  </thead>\n",
       "  <tbody>\n",
       "    <tr>\n",
       "      <th>0</th>\n",
       "      <td>Africa</td>\n",
       "      <td>Algeria</td>\n",
       "      <td>1979.5</td>\n",
       "      <td>59.030167</td>\n",
       "      <td>1.987541e+07</td>\n",
       "      <td>4426.025973</td>\n",
       "    </tr>\n",
       "    <tr>\n",
       "      <th>1</th>\n",
       "      <td>Africa</td>\n",
       "      <td>Angola</td>\n",
       "      <td>1979.5</td>\n",
       "      <td>37.883500</td>\n",
       "      <td>7.309390e+06</td>\n",
       "      <td>3607.100529</td>\n",
       "    </tr>\n",
       "    <tr>\n",
       "      <th>2</th>\n",
       "      <td>Africa</td>\n",
       "      <td>Benin</td>\n",
       "      <td>1979.5</td>\n",
       "      <td>48.779917</td>\n",
       "      <td>4.017497e+06</td>\n",
       "      <td>1155.395107</td>\n",
       "    </tr>\n",
       "    <tr>\n",
       "      <th>3</th>\n",
       "      <td>Africa</td>\n",
       "      <td>Botswana</td>\n",
       "      <td>1979.5</td>\n",
       "      <td>54.597500</td>\n",
       "      <td>9.711862e+05</td>\n",
       "      <td>5031.503557</td>\n",
       "    </tr>\n",
       "    <tr>\n",
       "      <th>4</th>\n",
       "      <td>Africa</td>\n",
       "      <td>Burkina_Faso</td>\n",
       "      <td>1979.5</td>\n",
       "      <td>44.694000</td>\n",
       "      <td>7.548677e+06</td>\n",
       "      <td>843.990665</td>\n",
       "    </tr>\n",
       "  </tbody>\n",
       "</table>\n",
       "</div>"
      ],
      "text/plain": [
       "  continent       country    year    lifeExp           pop    gdpPercap\n",
       "0    Africa       Algeria  1979.5  59.030167  1.987541e+07  4426.025973\n",
       "1    Africa        Angola  1979.5  37.883500  7.309390e+06  3607.100529\n",
       "2    Africa         Benin  1979.5  48.779917  4.017497e+06  1155.395107\n",
       "3    Africa      Botswana  1979.5  54.597500  9.711862e+05  5031.503557\n",
       "4    Africa  Burkina_Faso  1979.5  44.694000  7.548677e+06   843.990665"
      ]
     },
     "execution_count": 191,
     "metadata": {},
     "output_type": "execute_result"
    }
   ],
   "source": [
    "groupBy_2=['continent','country']\n",
    "\n",
    "#call GetMeansByCategory(df,groupby_list)\n",
    "myNewData_meanPerCountry=GetMeansByCategory(myNewData,groupBy_2)\n",
    "myNewData_meanPerCountry.head()"
   ]
  },
  {
   "cell_type": "markdown",
   "metadata": {},
   "source": [
    "We now add gdpPerCap country averages to the bar plot as `geom_point()` layer to show variation in gdpPercap among countries in each continent:"
   ]
  },
  {
   "cell_type": "code",
   "execution_count": 192,
   "metadata": {},
   "outputs": [
    {
     "data": {
      "image/png": "[encoded data removed]",
      "text/plain": [
       "<Figure size 640x480 with 1 Axes>"
      ]
     },
     "metadata": {},
     "output_type": "display_data"
    },
    {
     "name": "stdout",
     "output_type": "stream",
     "text": [
      "<ggplot: (7552653681)>\n"
     ]
    }
   ],
   "source": [
    "p1=p+geom_point(myNewData_meanPerCountry,aes(x = 'continent',  y = 'gdpPercap'),\n",
    "                fill='black',\n",
    "                position=position_jitter(width=0.02), \n",
    "                alpha=0.5)\n",
    "print(p1)"
   ]
  },
  {
   "cell_type": "markdown",
   "metadata": {},
   "source": [
    "In **Step5**, the plot is saved to file:"
   ]
  },
  {
   "cell_type": "code",
   "execution_count": 193,
   "metadata": {},
   "outputs": [
    {
     "name": "stderr",
     "output_type": "stream",
     "text": [
      "/anaconda3/lib/python3.7/site-packages/plotnine/ggplot.py:706: UserWarning: Saving 5 x 4 in image.\n",
      "  from_inches(height, units), units))\n",
      "/anaconda3/lib/python3.7/site-packages/plotnine/ggplot.py:707: UserWarning: Filename: GDP_Africa_Americas.png\n",
      "  warn('Filename: {}'.format(filename))\n"
     ]
    }
   ],
   "source": [
    "p1.save(filename=\"GDP_Africa_Americas.png\", height=4, width=5, units = 'in')"
   ]
  },
  {
   "cell_type": "markdown",
   "metadata": {},
   "source": [
    "## Conclusion\n",
    "There is a large variation in GDP per capita among countries of Africa and Americas. On average, American continents are about 3 times wealthier than Africa."
   ]
  }
 ],
 "metadata": {
  "kernelspec": {
   "display_name": "Python 3",
   "language": "python",
   "name": "python3"
  },
  "language_info": {
   "codemirror_mode": {
    "name": "ipython",
    "version": 3
   },
   "file_extension": ".py",
   "mimetype": "text/x-python",
   "name": "python",
   "nbconvert_exporter": "python",
   "pygments_lexer": "ipython3",
   "version": "3.7.1"
  }
 },
 "nbformat": 4,
 "nbformat_minor": 2
}
